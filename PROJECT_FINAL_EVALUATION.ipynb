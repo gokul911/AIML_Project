{
 "cells": [
  {
   "cell_type": "code",
   "execution_count": 1,
   "id": "86d5db55-e266-4d6f-b722-bf20b7233369",
   "metadata": {},
   "outputs": [],
   "source": [
    "# https://www.kaggle.com/datasets/jacksondivakarr/laptop-price-prediction-dataset -> Kaggle dataset link\n",
    "\n",
    "#axis = 0 means column wise along rows\n",
    "#axis = 1 means row wise along columns\n",
    "\n",
    "import numpy as np\n",
    "import pandas as pd\n",
    "import matplotlib.pyplot as plt\n",
    "import seaborn as sns"
   ]
  },
  {
   "cell_type": "code",
   "execution_count": 2,
   "id": "e57b6260-b974-4fd2-b76c-62c62bc84293",
   "metadata": {},
   "outputs": [
    {
     "data": {
      "text/html": [
       "<div>\n",
       "<style scoped>\n",
       "    .dataframe tbody tr th:only-of-type {\n",
       "        vertical-align: middle;\n",
       "    }\n",
       "\n",
       "    .dataframe tbody tr th {\n",
       "        vertical-align: top;\n",
       "    }\n",
       "\n",
       "    .dataframe thead th {\n",
       "        text-align: right;\n",
       "    }\n",
       "</style>\n",
       "<table border=\"1\" class=\"dataframe\">\n",
       "  <thead>\n",
       "    <tr style=\"text-align: right;\">\n",
       "      <th></th>\n",
       "      <th>Unnamed: 0.1</th>\n",
       "      <th>Unnamed: 0</th>\n",
       "      <th>brand</th>\n",
       "      <th>name</th>\n",
       "      <th>price</th>\n",
       "      <th>spec_rating</th>\n",
       "      <th>processor</th>\n",
       "      <th>CPU</th>\n",
       "      <th>Ram</th>\n",
       "      <th>Ram_type</th>\n",
       "      <th>ROM</th>\n",
       "      <th>ROM_type</th>\n",
       "      <th>GPU</th>\n",
       "      <th>display_size</th>\n",
       "      <th>resolution_width</th>\n",
       "      <th>resolution_height</th>\n",
       "      <th>OS</th>\n",
       "      <th>warranty</th>\n",
       "    </tr>\n",
       "  </thead>\n",
       "  <tbody>\n",
       "    <tr>\n",
       "      <th>0</th>\n",
       "      <td>0</td>\n",
       "      <td>0</td>\n",
       "      <td>HP</td>\n",
       "      <td>Victus 15-fb0157AX Gaming Laptop</td>\n",
       "      <td>49900</td>\n",
       "      <td>73.000000</td>\n",
       "      <td>5th Gen AMD Ryzen 5 5600H</td>\n",
       "      <td>Hexa Core, 12 Threads</td>\n",
       "      <td>8GB</td>\n",
       "      <td>DDR4</td>\n",
       "      <td>512GB</td>\n",
       "      <td>SSD</td>\n",
       "      <td>4GB AMD Radeon RX 6500M</td>\n",
       "      <td>15.6</td>\n",
       "      <td>1920.0</td>\n",
       "      <td>1080.0</td>\n",
       "      <td>Windows 11 OS</td>\n",
       "      <td>1</td>\n",
       "    </tr>\n",
       "    <tr>\n",
       "      <th>1</th>\n",
       "      <td>1</td>\n",
       "      <td>1</td>\n",
       "      <td>HP</td>\n",
       "      <td>15s-fq5007TU Laptop</td>\n",
       "      <td>39900</td>\n",
       "      <td>60.000000</td>\n",
       "      <td>12th Gen Intel Core i3 1215U</td>\n",
       "      <td>Hexa Core (2P + 4E), 8 Threads</td>\n",
       "      <td>8GB</td>\n",
       "      <td>DDR4</td>\n",
       "      <td>512GB</td>\n",
       "      <td>SSD</td>\n",
       "      <td>Intel UHD Graphics</td>\n",
       "      <td>15.6</td>\n",
       "      <td>1920.0</td>\n",
       "      <td>1080.0</td>\n",
       "      <td>Windows 11 OS</td>\n",
       "      <td>1</td>\n",
       "    </tr>\n",
       "    <tr>\n",
       "      <th>2</th>\n",
       "      <td>2</td>\n",
       "      <td>2</td>\n",
       "      <td>Acer</td>\n",
       "      <td>One 14 Z8-415 Laptop</td>\n",
       "      <td>26990</td>\n",
       "      <td>69.323529</td>\n",
       "      <td>11th Gen Intel Core i3 1115G4</td>\n",
       "      <td>Dual Core, 4 Threads</td>\n",
       "      <td>8GB</td>\n",
       "      <td>DDR4</td>\n",
       "      <td>512GB</td>\n",
       "      <td>SSD</td>\n",
       "      <td>Intel Iris Xe Graphics</td>\n",
       "      <td>14.0</td>\n",
       "      <td>1920.0</td>\n",
       "      <td>1080.0</td>\n",
       "      <td>Windows 11 OS</td>\n",
       "      <td>1</td>\n",
       "    </tr>\n",
       "    <tr>\n",
       "      <th>3</th>\n",
       "      <td>3</td>\n",
       "      <td>3</td>\n",
       "      <td>Lenovo</td>\n",
       "      <td>Yoga Slim 6 14IAP8 82WU0095IN Laptop</td>\n",
       "      <td>59729</td>\n",
       "      <td>66.000000</td>\n",
       "      <td>12th Gen Intel Core i5 1240P</td>\n",
       "      <td>12 Cores (4P + 8E), 16 Threads</td>\n",
       "      <td>16GB</td>\n",
       "      <td>LPDDR5</td>\n",
       "      <td>512GB</td>\n",
       "      <td>SSD</td>\n",
       "      <td>Intel Integrated Iris Xe</td>\n",
       "      <td>14.0</td>\n",
       "      <td>2240.0</td>\n",
       "      <td>1400.0</td>\n",
       "      <td>Windows 11 OS</td>\n",
       "      <td>1</td>\n",
       "    </tr>\n",
       "    <tr>\n",
       "      <th>4</th>\n",
       "      <td>4</td>\n",
       "      <td>4</td>\n",
       "      <td>Apple</td>\n",
       "      <td>MacBook Air 2020 MGND3HN Laptop</td>\n",
       "      <td>69990</td>\n",
       "      <td>69.323529</td>\n",
       "      <td>Apple M1</td>\n",
       "      <td>Octa Core (4P + 4E)</td>\n",
       "      <td>8GB</td>\n",
       "      <td>DDR4</td>\n",
       "      <td>256GB</td>\n",
       "      <td>SSD</td>\n",
       "      <td>Apple M1 Integrated Graphics</td>\n",
       "      <td>13.3</td>\n",
       "      <td>2560.0</td>\n",
       "      <td>1600.0</td>\n",
       "      <td>Mac OS</td>\n",
       "      <td>1</td>\n",
       "    </tr>\n",
       "  </tbody>\n",
       "</table>\n",
       "</div>"
      ],
      "text/plain": [
       "   Unnamed: 0.1  Unnamed: 0   brand                                  name  \\\n",
       "0             0           0      HP      Victus 15-fb0157AX Gaming Laptop   \n",
       "1             1           1      HP                   15s-fq5007TU Laptop   \n",
       "2             2           2    Acer                  One 14 Z8-415 Laptop   \n",
       "3             3           3  Lenovo  Yoga Slim 6 14IAP8 82WU0095IN Laptop   \n",
       "4             4           4   Apple       MacBook Air 2020 MGND3HN Laptop   \n",
       "\n",
       "   price  spec_rating                      processor  \\\n",
       "0  49900    73.000000      5th Gen AMD Ryzen 5 5600H   \n",
       "1  39900    60.000000   12th Gen Intel Core i3 1215U   \n",
       "2  26990    69.323529  11th Gen Intel Core i3 1115G4   \n",
       "3  59729    66.000000   12th Gen Intel Core i5 1240P   \n",
       "4  69990    69.323529                       Apple M1   \n",
       "\n",
       "                              CPU   Ram Ram_type    ROM ROM_type  \\\n",
       "0           Hexa Core, 12 Threads   8GB     DDR4  512GB      SSD   \n",
       "1  Hexa Core (2P + 4E), 8 Threads   8GB     DDR4  512GB      SSD   \n",
       "2            Dual Core, 4 Threads   8GB     DDR4  512GB      SSD   \n",
       "3  12 Cores (4P + 8E), 16 Threads  16GB   LPDDR5  512GB      SSD   \n",
       "4             Octa Core (4P + 4E)   8GB     DDR4  256GB      SSD   \n",
       "\n",
       "                            GPU  display_size  resolution_width  \\\n",
       "0       4GB AMD Radeon RX 6500M          15.6            1920.0   \n",
       "1            Intel UHD Graphics          15.6            1920.0   \n",
       "2        Intel Iris Xe Graphics          14.0            1920.0   \n",
       "3      Intel Integrated Iris Xe          14.0            2240.0   \n",
       "4  Apple M1 Integrated Graphics          13.3            2560.0   \n",
       "\n",
       "   resolution_height             OS  warranty  \n",
       "0             1080.0  Windows 11 OS         1  \n",
       "1             1080.0  Windows 11 OS         1  \n",
       "2             1080.0  Windows 11 OS         1  \n",
       "3             1400.0  Windows 11 OS         1  \n",
       "4             1600.0         Mac OS         1  "
      ]
     },
     "execution_count": 2,
     "metadata": {},
     "output_type": "execute_result"
    }
   ],
   "source": [
    "df = pd.read_csv(r\"C:\\Users\\pngok\\Dropbox\\PC\\Desktop\\KAGGLE DATSETS\\LAPTOP PRICE PREDICTION\\data.csv\")\n",
    "df.head()"
   ]
  },
  {
   "cell_type": "code",
   "execution_count": 3,
   "id": "3af43796-1acc-4467-8ab8-5ce3d0a08dc7",
   "metadata": {},
   "outputs": [
    {
     "data": {
      "text/plain": [
       "Unnamed: 0.1         0\n",
       "Unnamed: 0           0\n",
       "brand                0\n",
       "name                 0\n",
       "price                0\n",
       "spec_rating          0\n",
       "processor            0\n",
       "CPU                  0\n",
       "Ram                  0\n",
       "Ram_type             0\n",
       "ROM                  0\n",
       "ROM_type             0\n",
       "GPU                  0\n",
       "display_size         0\n",
       "resolution_width     0\n",
       "resolution_height    0\n",
       "OS                   0\n",
       "warranty             0\n",
       "dtype: int64"
      ]
     },
     "execution_count": 3,
     "metadata": {},
     "output_type": "execute_result"
    }
   ],
   "source": [
    "df.isnull().sum()"
   ]
  },
  {
   "cell_type": "code",
   "execution_count": 4,
   "id": "be9028c7-483d-4f67-8fc2-7a94f14a4ea3",
   "metadata": {},
   "outputs": [
    {
     "data": {
      "text/html": [
       "<div>\n",
       "<style scoped>\n",
       "    .dataframe tbody tr th:only-of-type {\n",
       "        vertical-align: middle;\n",
       "    }\n",
       "\n",
       "    .dataframe tbody tr th {\n",
       "        vertical-align: top;\n",
       "    }\n",
       "\n",
       "    .dataframe thead th {\n",
       "        text-align: right;\n",
       "    }\n",
       "</style>\n",
       "<table border=\"1\" class=\"dataframe\">\n",
       "  <thead>\n",
       "    <tr style=\"text-align: right;\">\n",
       "      <th></th>\n",
       "      <th>brand</th>\n",
       "      <th>price</th>\n",
       "      <th>spec_rating</th>\n",
       "      <th>processor</th>\n",
       "      <th>CPU</th>\n",
       "      <th>Ram</th>\n",
       "      <th>Ram_type</th>\n",
       "      <th>ROM</th>\n",
       "      <th>ROM_type</th>\n",
       "      <th>GPU</th>\n",
       "      <th>display_size</th>\n",
       "      <th>resolution_width</th>\n",
       "      <th>resolution_height</th>\n",
       "      <th>OS</th>\n",
       "      <th>warranty</th>\n",
       "    </tr>\n",
       "  </thead>\n",
       "  <tbody>\n",
       "    <tr>\n",
       "      <th>0</th>\n",
       "      <td>HP</td>\n",
       "      <td>49900</td>\n",
       "      <td>73.000000</td>\n",
       "      <td>5th Gen AMD Ryzen 5 5600H</td>\n",
       "      <td>Hexa Core, 12 Threads</td>\n",
       "      <td>8GB</td>\n",
       "      <td>DDR4</td>\n",
       "      <td>512GB</td>\n",
       "      <td>SSD</td>\n",
       "      <td>4GB AMD Radeon RX 6500M</td>\n",
       "      <td>15.6</td>\n",
       "      <td>1920.0</td>\n",
       "      <td>1080.0</td>\n",
       "      <td>Windows 11 OS</td>\n",
       "      <td>1</td>\n",
       "    </tr>\n",
       "    <tr>\n",
       "      <th>1</th>\n",
       "      <td>HP</td>\n",
       "      <td>39900</td>\n",
       "      <td>60.000000</td>\n",
       "      <td>12th Gen Intel Core i3 1215U</td>\n",
       "      <td>Hexa Core (2P + 4E), 8 Threads</td>\n",
       "      <td>8GB</td>\n",
       "      <td>DDR4</td>\n",
       "      <td>512GB</td>\n",
       "      <td>SSD</td>\n",
       "      <td>Intel UHD Graphics</td>\n",
       "      <td>15.6</td>\n",
       "      <td>1920.0</td>\n",
       "      <td>1080.0</td>\n",
       "      <td>Windows 11 OS</td>\n",
       "      <td>1</td>\n",
       "    </tr>\n",
       "    <tr>\n",
       "      <th>2</th>\n",
       "      <td>Acer</td>\n",
       "      <td>26990</td>\n",
       "      <td>69.323529</td>\n",
       "      <td>11th Gen Intel Core i3 1115G4</td>\n",
       "      <td>Dual Core, 4 Threads</td>\n",
       "      <td>8GB</td>\n",
       "      <td>DDR4</td>\n",
       "      <td>512GB</td>\n",
       "      <td>SSD</td>\n",
       "      <td>Intel Iris Xe Graphics</td>\n",
       "      <td>14.0</td>\n",
       "      <td>1920.0</td>\n",
       "      <td>1080.0</td>\n",
       "      <td>Windows 11 OS</td>\n",
       "      <td>1</td>\n",
       "    </tr>\n",
       "    <tr>\n",
       "      <th>3</th>\n",
       "      <td>Lenovo</td>\n",
       "      <td>59729</td>\n",
       "      <td>66.000000</td>\n",
       "      <td>12th Gen Intel Core i5 1240P</td>\n",
       "      <td>12 Cores (4P + 8E), 16 Threads</td>\n",
       "      <td>16GB</td>\n",
       "      <td>LPDDR5</td>\n",
       "      <td>512GB</td>\n",
       "      <td>SSD</td>\n",
       "      <td>Intel Integrated Iris Xe</td>\n",
       "      <td>14.0</td>\n",
       "      <td>2240.0</td>\n",
       "      <td>1400.0</td>\n",
       "      <td>Windows 11 OS</td>\n",
       "      <td>1</td>\n",
       "    </tr>\n",
       "    <tr>\n",
       "      <th>4</th>\n",
       "      <td>Apple</td>\n",
       "      <td>69990</td>\n",
       "      <td>69.323529</td>\n",
       "      <td>Apple M1</td>\n",
       "      <td>Octa Core (4P + 4E)</td>\n",
       "      <td>8GB</td>\n",
       "      <td>DDR4</td>\n",
       "      <td>256GB</td>\n",
       "      <td>SSD</td>\n",
       "      <td>Apple M1 Integrated Graphics</td>\n",
       "      <td>13.3</td>\n",
       "      <td>2560.0</td>\n",
       "      <td>1600.0</td>\n",
       "      <td>Mac OS</td>\n",
       "      <td>1</td>\n",
       "    </tr>\n",
       "  </tbody>\n",
       "</table>\n",
       "</div>"
      ],
      "text/plain": [
       "    brand  price  spec_rating                      processor  \\\n",
       "0      HP  49900    73.000000      5th Gen AMD Ryzen 5 5600H   \n",
       "1      HP  39900    60.000000   12th Gen Intel Core i3 1215U   \n",
       "2    Acer  26990    69.323529  11th Gen Intel Core i3 1115G4   \n",
       "3  Lenovo  59729    66.000000   12th Gen Intel Core i5 1240P   \n",
       "4   Apple  69990    69.323529                       Apple M1   \n",
       "\n",
       "                              CPU   Ram Ram_type    ROM ROM_type  \\\n",
       "0           Hexa Core, 12 Threads   8GB     DDR4  512GB      SSD   \n",
       "1  Hexa Core (2P + 4E), 8 Threads   8GB     DDR4  512GB      SSD   \n",
       "2            Dual Core, 4 Threads   8GB     DDR4  512GB      SSD   \n",
       "3  12 Cores (4P + 8E), 16 Threads  16GB   LPDDR5  512GB      SSD   \n",
       "4             Octa Core (4P + 4E)   8GB     DDR4  256GB      SSD   \n",
       "\n",
       "                            GPU  display_size  resolution_width  \\\n",
       "0       4GB AMD Radeon RX 6500M          15.6            1920.0   \n",
       "1            Intel UHD Graphics          15.6            1920.0   \n",
       "2        Intel Iris Xe Graphics          14.0            1920.0   \n",
       "3      Intel Integrated Iris Xe          14.0            2240.0   \n",
       "4  Apple M1 Integrated Graphics          13.3            2560.0   \n",
       "\n",
       "   resolution_height             OS  warranty  \n",
       "0             1080.0  Windows 11 OS         1  \n",
       "1             1080.0  Windows 11 OS         1  \n",
       "2             1080.0  Windows 11 OS         1  \n",
       "3             1400.0  Windows 11 OS         1  \n",
       "4             1600.0         Mac OS         1  "
      ]
     },
     "execution_count": 4,
     "metadata": {},
     "output_type": "execute_result"
    }
   ],
   "source": [
    "df.drop(['Unnamed: 0.1','Unnamed: 0', 'name'], axis = 1, inplace = True)\n",
    "df.head()"
   ]
  },
  {
   "cell_type": "code",
   "execution_count": 5,
   "id": "f96d081e-5b8f-452d-85d5-962bdd114a7a",
   "metadata": {},
   "outputs": [
    {
     "data": {
      "image/png": "[encoded data removed]",
      "text/plain": [
       "<Figure size 640x480 with 1 Axes>"
      ]
     },
     "metadata": {},
     "output_type": "display_data"
    }
   ],
   "source": [
    "sns.barplot(x = df['warranty'], y = df['price'])\n",
    "plt.show()"
   ]
  },
  {
   "cell_type": "code",
   "execution_count": 6,
   "id": "abbd1664-8ace-4bce-9e3b-fbf5c77deec4",
   "metadata": {},
   "outputs": [
    {
     "data": {
      "text/plain": [
       "Index(['price', 'spec_rating', 'display_size', 'resolution_width',\n",
       "       'resolution_height', 'warranty'],\n",
       "      dtype='object')"
      ]
     },
     "execution_count": 6,
     "metadata": {},
     "output_type": "execute_result"
    }
   ],
   "source": [
    "df.select_dtypes(include = ['int','float']).keys()"
   ]
  },
  {
   "cell_type": "code",
   "execution_count": 7,
   "id": "84f7c075-714b-4bc3-983c-ec049b50180e",
   "metadata": {},
   "outputs": [],
   "source": [
    "df['ppi'] = ((df['resolution_height'] ** 2 + df['resolution_width'] ** 2) ** 0.5) / df['display_size']"
   ]
  },
  {
   "cell_type": "code",
   "execution_count": 8,
   "id": "a33f9e63-e7af-4be8-b4e6-b5bc98e3015a",
   "metadata": {},
   "outputs": [
    {
     "data": {
      "text/html": [
       "<div>\n",
       "<style scoped>\n",
       "    .dataframe tbody tr th:only-of-type {\n",
       "        vertical-align: middle;\n",
       "    }\n",
       "\n",
       "    .dataframe tbody tr th {\n",
       "        vertical-align: top;\n",
       "    }\n",
       "\n",
       "    .dataframe thead th {\n",
       "        text-align: right;\n",
       "    }\n",
       "</style>\n",
       "<table border=\"1\" class=\"dataframe\">\n",
       "  <thead>\n",
       "    <tr style=\"text-align: right;\">\n",
       "      <th></th>\n",
       "      <th>brand</th>\n",
       "      <th>price</th>\n",
       "      <th>spec_rating</th>\n",
       "      <th>processor</th>\n",
       "      <th>CPU</th>\n",
       "      <th>Ram</th>\n",
       "      <th>Ram_type</th>\n",
       "      <th>ROM</th>\n",
       "      <th>ROM_type</th>\n",
       "      <th>GPU</th>\n",
       "      <th>display_size</th>\n",
       "      <th>resolution_width</th>\n",
       "      <th>resolution_height</th>\n",
       "      <th>OS</th>\n",
       "      <th>warranty</th>\n",
       "      <th>ppi</th>\n",
       "    </tr>\n",
       "  </thead>\n",
       "  <tbody>\n",
       "    <tr>\n",
       "      <th>0</th>\n",
       "      <td>HP</td>\n",
       "      <td>49900</td>\n",
       "      <td>73.000000</td>\n",
       "      <td>5th Gen AMD Ryzen 5 5600H</td>\n",
       "      <td>Hexa Core, 12 Threads</td>\n",
       "      <td>8GB</td>\n",
       "      <td>DDR4</td>\n",
       "      <td>512GB</td>\n",
       "      <td>SSD</td>\n",
       "      <td>4GB AMD Radeon RX 6500M</td>\n",
       "      <td>15.6</td>\n",
       "      <td>1920.0</td>\n",
       "      <td>1080.0</td>\n",
       "      <td>Windows 11 OS</td>\n",
       "      <td>1</td>\n",
       "      <td>141.211998</td>\n",
       "    </tr>\n",
       "    <tr>\n",
       "      <th>1</th>\n",
       "      <td>HP</td>\n",
       "      <td>39900</td>\n",
       "      <td>60.000000</td>\n",
       "      <td>12th Gen Intel Core i3 1215U</td>\n",
       "      <td>Hexa Core (2P + 4E), 8 Threads</td>\n",
       "      <td>8GB</td>\n",
       "      <td>DDR4</td>\n",
       "      <td>512GB</td>\n",
       "      <td>SSD</td>\n",
       "      <td>Intel UHD Graphics</td>\n",
       "      <td>15.6</td>\n",
       "      <td>1920.0</td>\n",
       "      <td>1080.0</td>\n",
       "      <td>Windows 11 OS</td>\n",
       "      <td>1</td>\n",
       "      <td>141.211998</td>\n",
       "    </tr>\n",
       "    <tr>\n",
       "      <th>2</th>\n",
       "      <td>Acer</td>\n",
       "      <td>26990</td>\n",
       "      <td>69.323529</td>\n",
       "      <td>11th Gen Intel Core i3 1115G4</td>\n",
       "      <td>Dual Core, 4 Threads</td>\n",
       "      <td>8GB</td>\n",
       "      <td>DDR4</td>\n",
       "      <td>512GB</td>\n",
       "      <td>SSD</td>\n",
       "      <td>Intel Iris Xe Graphics</td>\n",
       "      <td>14.0</td>\n",
       "      <td>1920.0</td>\n",
       "      <td>1080.0</td>\n",
       "      <td>Windows 11 OS</td>\n",
       "      <td>1</td>\n",
       "      <td>157.350512</td>\n",
       "    </tr>\n",
       "    <tr>\n",
       "      <th>3</th>\n",
       "      <td>Lenovo</td>\n",
       "      <td>59729</td>\n",
       "      <td>66.000000</td>\n",
       "      <td>12th Gen Intel Core i5 1240P</td>\n",
       "      <td>12 Cores (4P + 8E), 16 Threads</td>\n",
       "      <td>16GB</td>\n",
       "      <td>LPDDR5</td>\n",
       "      <td>512GB</td>\n",
       "      <td>SSD</td>\n",
       "      <td>Intel Integrated Iris Xe</td>\n",
       "      <td>14.0</td>\n",
       "      <td>2240.0</td>\n",
       "      <td>1400.0</td>\n",
       "      <td>Windows 11 OS</td>\n",
       "      <td>1</td>\n",
       "      <td>188.679623</td>\n",
       "    </tr>\n",
       "    <tr>\n",
       "      <th>4</th>\n",
       "      <td>Apple</td>\n",
       "      <td>69990</td>\n",
       "      <td>69.323529</td>\n",
       "      <td>Apple M1</td>\n",
       "      <td>Octa Core (4P + 4E)</td>\n",
       "      <td>8GB</td>\n",
       "      <td>DDR4</td>\n",
       "      <td>256GB</td>\n",
       "      <td>SSD</td>\n",
       "      <td>Apple M1 Integrated Graphics</td>\n",
       "      <td>13.3</td>\n",
       "      <td>2560.0</td>\n",
       "      <td>1600.0</td>\n",
       "      <td>Mac OS</td>\n",
       "      <td>1</td>\n",
       "      <td>226.983005</td>\n",
       "    </tr>\n",
       "  </tbody>\n",
       "</table>\n",
       "</div>"
      ],
      "text/plain": [
       "    brand  price  spec_rating                      processor  \\\n",
       "0      HP  49900    73.000000      5th Gen AMD Ryzen 5 5600H   \n",
       "1      HP  39900    60.000000   12th Gen Intel Core i3 1215U   \n",
       "2    Acer  26990    69.323529  11th Gen Intel Core i3 1115G4   \n",
       "3  Lenovo  59729    66.000000   12th Gen Intel Core i5 1240P   \n",
       "4   Apple  69990    69.323529                       Apple M1   \n",
       "\n",
       "                              CPU   Ram Ram_type    ROM ROM_type  \\\n",
       "0           Hexa Core, 12 Threads   8GB     DDR4  512GB      SSD   \n",
       "1  Hexa Core (2P + 4E), 8 Threads   8GB     DDR4  512GB      SSD   \n",
       "2            Dual Core, 4 Threads   8GB     DDR4  512GB      SSD   \n",
       "3  12 Cores (4P + 8E), 16 Threads  16GB   LPDDR5  512GB      SSD   \n",
       "4             Octa Core (4P + 4E)   8GB     DDR4  256GB      SSD   \n",
       "\n",
       "                            GPU  display_size  resolution_width  \\\n",
       "0       4GB AMD Radeon RX 6500M          15.6            1920.0   \n",
       "1            Intel UHD Graphics          15.6            1920.0   \n",
       "2        Intel Iris Xe Graphics          14.0            1920.0   \n",
       "3      Intel Integrated Iris Xe          14.0            2240.0   \n",
       "4  Apple M1 Integrated Graphics          13.3            2560.0   \n",
       "\n",
       "   resolution_height             OS  warranty         ppi  \n",
       "0             1080.0  Windows 11 OS         1  141.211998  \n",
       "1             1080.0  Windows 11 OS         1  141.211998  \n",
       "2             1080.0  Windows 11 OS         1  157.350512  \n",
       "3             1400.0  Windows 11 OS         1  188.679623  \n",
       "4             1600.0         Mac OS         1  226.983005  "
      ]
     },
     "execution_count": 8,
     "metadata": {},
     "output_type": "execute_result"
    }
   ],
   "source": [
    "df.head()"
   ]
  },
  {
   "cell_type": "code",
   "execution_count": 9,
   "id": "fb2582e2-e7ce-430b-a4c4-ebdccac07dad",
   "metadata": {},
   "outputs": [],
   "source": [
    "df.drop(['display_size', 'resolution_width', 'resolution_height'], axis = 1, inplace = True)"
   ]
  },
  {
   "cell_type": "code",
   "execution_count": 10,
   "id": "19817ebd-7f5f-4797-917b-1a1f64c5db29",
   "metadata": {},
   "outputs": [
    {
     "data": {
      "text/html": [
       "<div>\n",
       "<style scoped>\n",
       "    .dataframe tbody tr th:only-of-type {\n",
       "        vertical-align: middle;\n",
       "    }\n",
       "\n",
       "    .dataframe tbody tr th {\n",
       "        vertical-align: top;\n",
       "    }\n",
       "\n",
       "    .dataframe thead th {\n",
       "        text-align: right;\n",
       "    }\n",
       "</style>\n",
       "<table border=\"1\" class=\"dataframe\">\n",
       "  <thead>\n",
       "    <tr style=\"text-align: right;\">\n",
       "      <th></th>\n",
       "      <th>brand</th>\n",
       "      <th>price</th>\n",
       "      <th>spec_rating</th>\n",
       "      <th>processor</th>\n",
       "      <th>CPU</th>\n",
       "      <th>Ram</th>\n",
       "      <th>Ram_type</th>\n",
       "      <th>ROM</th>\n",
       "      <th>ROM_type</th>\n",
       "      <th>GPU</th>\n",
       "      <th>OS</th>\n",
       "      <th>warranty</th>\n",
       "      <th>ppi</th>\n",
       "    </tr>\n",
       "  </thead>\n",
       "  <tbody>\n",
       "    <tr>\n",
       "      <th>0</th>\n",
       "      <td>HP</td>\n",
       "      <td>49900</td>\n",
       "      <td>73.000000</td>\n",
       "      <td>5th Gen AMD Ryzen 5 5600H</td>\n",
       "      <td>Hexa Core, 12 Threads</td>\n",
       "      <td>8GB</td>\n",
       "      <td>DDR4</td>\n",
       "      <td>512GB</td>\n",
       "      <td>SSD</td>\n",
       "      <td>4GB AMD Radeon RX 6500M</td>\n",
       "      <td>Windows 11 OS</td>\n",
       "      <td>1</td>\n",
       "      <td>141.211998</td>\n",
       "    </tr>\n",
       "    <tr>\n",
       "      <th>1</th>\n",
       "      <td>HP</td>\n",
       "      <td>39900</td>\n",
       "      <td>60.000000</td>\n",
       "      <td>12th Gen Intel Core i3 1215U</td>\n",
       "      <td>Hexa Core (2P + 4E), 8 Threads</td>\n",
       "      <td>8GB</td>\n",
       "      <td>DDR4</td>\n",
       "      <td>512GB</td>\n",
       "      <td>SSD</td>\n",
       "      <td>Intel UHD Graphics</td>\n",
       "      <td>Windows 11 OS</td>\n",
       "      <td>1</td>\n",
       "      <td>141.211998</td>\n",
       "    </tr>\n",
       "    <tr>\n",
       "      <th>2</th>\n",
       "      <td>Acer</td>\n",
       "      <td>26990</td>\n",
       "      <td>69.323529</td>\n",
       "      <td>11th Gen Intel Core i3 1115G4</td>\n",
       "      <td>Dual Core, 4 Threads</td>\n",
       "      <td>8GB</td>\n",
       "      <td>DDR4</td>\n",
       "      <td>512GB</td>\n",
       "      <td>SSD</td>\n",
       "      <td>Intel Iris Xe Graphics</td>\n",
       "      <td>Windows 11 OS</td>\n",
       "      <td>1</td>\n",
       "      <td>157.350512</td>\n",
       "    </tr>\n",
       "    <tr>\n",
       "      <th>3</th>\n",
       "      <td>Lenovo</td>\n",
       "      <td>59729</td>\n",
       "      <td>66.000000</td>\n",
       "      <td>12th Gen Intel Core i5 1240P</td>\n",
       "      <td>12 Cores (4P + 8E), 16 Threads</td>\n",
       "      <td>16GB</td>\n",
       "      <td>LPDDR5</td>\n",
       "      <td>512GB</td>\n",
       "      <td>SSD</td>\n",
       "      <td>Intel Integrated Iris Xe</td>\n",
       "      <td>Windows 11 OS</td>\n",
       "      <td>1</td>\n",
       "      <td>188.679623</td>\n",
       "    </tr>\n",
       "    <tr>\n",
       "      <th>4</th>\n",
       "      <td>Apple</td>\n",
       "      <td>69990</td>\n",
       "      <td>69.323529</td>\n",
       "      <td>Apple M1</td>\n",
       "      <td>Octa Core (4P + 4E)</td>\n",
       "      <td>8GB</td>\n",
       "      <td>DDR4</td>\n",
       "      <td>256GB</td>\n",
       "      <td>SSD</td>\n",
       "      <td>Apple M1 Integrated Graphics</td>\n",
       "      <td>Mac OS</td>\n",
       "      <td>1</td>\n",
       "      <td>226.983005</td>\n",
       "    </tr>\n",
       "  </tbody>\n",
       "</table>\n",
       "</div>"
      ],
      "text/plain": [
       "    brand  price  spec_rating                      processor  \\\n",
       "0      HP  49900    73.000000      5th Gen AMD Ryzen 5 5600H   \n",
       "1      HP  39900    60.000000   12th Gen Intel Core i3 1215U   \n",
       "2    Acer  26990    69.323529  11th Gen Intel Core i3 1115G4   \n",
       "3  Lenovo  59729    66.000000   12th Gen Intel Core i5 1240P   \n",
       "4   Apple  69990    69.323529                       Apple M1   \n",
       "\n",
       "                              CPU   Ram Ram_type    ROM ROM_type  \\\n",
       "0           Hexa Core, 12 Threads   8GB     DDR4  512GB      SSD   \n",
       "1  Hexa Core (2P + 4E), 8 Threads   8GB     DDR4  512GB      SSD   \n",
       "2            Dual Core, 4 Threads   8GB     DDR4  512GB      SSD   \n",
       "3  12 Cores (4P + 8E), 16 Threads  16GB   LPDDR5  512GB      SSD   \n",
       "4             Octa Core (4P + 4E)   8GB     DDR4  256GB      SSD   \n",
       "\n",
       "                            GPU             OS  warranty         ppi  \n",
       "0       4GB AMD Radeon RX 6500M  Windows 11 OS         1  141.211998  \n",
       "1            Intel UHD Graphics  Windows 11 OS         1  141.211998  \n",
       "2        Intel Iris Xe Graphics  Windows 11 OS         1  157.350512  \n",
       "3      Intel Integrated Iris Xe  Windows 11 OS         1  188.679623  \n",
       "4  Apple M1 Integrated Graphics         Mac OS         1  226.983005  "
      ]
     },
     "execution_count": 10,
     "metadata": {},
     "output_type": "execute_result"
    }
   ],
   "source": [
    "df.head()"
   ]
  },
  {
   "cell_type": "code",
   "execution_count": 11,
   "id": "6d587ba6-ba17-4fa2-a1fd-da1ee08a8662",
   "metadata": {},
   "outputs": [
    {
     "data": {
      "image/png": "[encoded data removed]",
      "text/plain": [
       "<Figure size 640x480 with 1 Axes>"
      ]
     },
     "metadata": {},
     "output_type": "display_data"
    }
   ],
   "source": [
    "plt.scatter(df['ppi'], df['price'])\n",
    "plt.xlabel(\"PPI\")\n",
    "plt.ylabel(\"Price\")\n",
    "plt.show()"
   ]
  },
  {
   "cell_type": "code",
   "execution_count": 12,
   "id": "8d922c57-3047-4571-88a3-a89591802715",
   "metadata": {},
   "outputs": [
    {
     "data": {
      "text/plain": [
       "Index(['price', 'spec_rating', 'warranty', 'ppi'], dtype='object')"
      ]
     },
     "execution_count": 12,
     "metadata": {},
     "output_type": "execute_result"
    }
   ],
   "source": [
    "df.select_dtypes(include = ['int','float']).keys()"
   ]
  },
  {
   "cell_type": "code",
   "execution_count": 13,
   "id": "595906f1-c13e-4ecc-8be8-3fceaaf498a8",
   "metadata": {},
   "outputs": [
    {
     "data": {
      "text/plain": [
       "0       [8]\n",
       "1       [8]\n",
       "2       [8]\n",
       "3      [16]\n",
       "4       [8]\n",
       "       ... \n",
       "888     [8]\n",
       "889    [16]\n",
       "890    [32]\n",
       "891    [16]\n",
       "892    [16]\n",
       "Name: Ram, Length: 893, dtype: object"
      ]
     },
     "execution_count": 13,
     "metadata": {},
     "output_type": "execute_result"
    }
   ],
   "source": [
    "df['Ram'].str.findall(r\"\\d+\")"
   ]
  },
  {
   "cell_type": "code",
   "execution_count": 14,
   "id": "2d991b75-732f-4677-8ae6-9be35297e433",
   "metadata": {},
   "outputs": [
    {
     "data": {
      "text/plain": [
       "0       8\n",
       "1       8\n",
       "2       8\n",
       "3      16\n",
       "4       8\n",
       "       ..\n",
       "888     8\n",
       "889    16\n",
       "890    32\n",
       "891    16\n",
       "892    16\n",
       "Name: Ram, Length: 893, dtype: object"
      ]
     },
     "execution_count": 14,
     "metadata": {},
     "output_type": "execute_result"
    }
   ],
   "source": [
    "df['Ram'].str.findall(r\"\\d+\").apply(lambda x: x[0])"
   ]
  },
  {
   "cell_type": "code",
   "execution_count": 15,
   "id": "8c917b27-67a4-4552-9b90-c254aa41e1e3",
   "metadata": {},
   "outputs": [],
   "source": [
    "df['Ram'] = ( df['Ram'].str.findall(r\"\\d+\").apply(lambda x: x[0]) ).astype('int')"
   ]
  },
  {
   "cell_type": "code",
   "execution_count": 16,
   "id": "5a606408-87a2-423e-8ed8-642197b288ae",
   "metadata": {},
   "outputs": [
    {
     "data": {
      "text/html": [
       "<div>\n",
       "<style scoped>\n",
       "    .dataframe tbody tr th:only-of-type {\n",
       "        vertical-align: middle;\n",
       "    }\n",
       "\n",
       "    .dataframe tbody tr th {\n",
       "        vertical-align: top;\n",
       "    }\n",
       "\n",
       "    .dataframe thead th {\n",
       "        text-align: right;\n",
       "    }\n",
       "</style>\n",
       "<table border=\"1\" class=\"dataframe\">\n",
       "  <thead>\n",
       "    <tr style=\"text-align: right;\">\n",
       "      <th></th>\n",
       "      <th>brand</th>\n",
       "      <th>price</th>\n",
       "      <th>spec_rating</th>\n",
       "      <th>processor</th>\n",
       "      <th>CPU</th>\n",
       "      <th>Ram</th>\n",
       "      <th>Ram_type</th>\n",
       "      <th>ROM</th>\n",
       "      <th>ROM_type</th>\n",
       "      <th>GPU</th>\n",
       "      <th>OS</th>\n",
       "      <th>warranty</th>\n",
       "      <th>ppi</th>\n",
       "    </tr>\n",
       "  </thead>\n",
       "  <tbody>\n",
       "    <tr>\n",
       "      <th>0</th>\n",
       "      <td>HP</td>\n",
       "      <td>49900</td>\n",
       "      <td>73.000000</td>\n",
       "      <td>5th Gen AMD Ryzen 5 5600H</td>\n",
       "      <td>Hexa Core, 12 Threads</td>\n",
       "      <td>8</td>\n",
       "      <td>DDR4</td>\n",
       "      <td>512GB</td>\n",
       "      <td>SSD</td>\n",
       "      <td>4GB AMD Radeon RX 6500M</td>\n",
       "      <td>Windows 11 OS</td>\n",
       "      <td>1</td>\n",
       "      <td>141.211998</td>\n",
       "    </tr>\n",
       "    <tr>\n",
       "      <th>1</th>\n",
       "      <td>HP</td>\n",
       "      <td>39900</td>\n",
       "      <td>60.000000</td>\n",
       "      <td>12th Gen Intel Core i3 1215U</td>\n",
       "      <td>Hexa Core (2P + 4E), 8 Threads</td>\n",
       "      <td>8</td>\n",
       "      <td>DDR4</td>\n",
       "      <td>512GB</td>\n",
       "      <td>SSD</td>\n",
       "      <td>Intel UHD Graphics</td>\n",
       "      <td>Windows 11 OS</td>\n",
       "      <td>1</td>\n",
       "      <td>141.211998</td>\n",
       "    </tr>\n",
       "    <tr>\n",
       "      <th>2</th>\n",
       "      <td>Acer</td>\n",
       "      <td>26990</td>\n",
       "      <td>69.323529</td>\n",
       "      <td>11th Gen Intel Core i3 1115G4</td>\n",
       "      <td>Dual Core, 4 Threads</td>\n",
       "      <td>8</td>\n",
       "      <td>DDR4</td>\n",
       "      <td>512GB</td>\n",
       "      <td>SSD</td>\n",
       "      <td>Intel Iris Xe Graphics</td>\n",
       "      <td>Windows 11 OS</td>\n",
       "      <td>1</td>\n",
       "      <td>157.350512</td>\n",
       "    </tr>\n",
       "    <tr>\n",
       "      <th>3</th>\n",
       "      <td>Lenovo</td>\n",
       "      <td>59729</td>\n",
       "      <td>66.000000</td>\n",
       "      <td>12th Gen Intel Core i5 1240P</td>\n",
       "      <td>12 Cores (4P + 8E), 16 Threads</td>\n",
       "      <td>16</td>\n",
       "      <td>LPDDR5</td>\n",
       "      <td>512GB</td>\n",
       "      <td>SSD</td>\n",
       "      <td>Intel Integrated Iris Xe</td>\n",
       "      <td>Windows 11 OS</td>\n",
       "      <td>1</td>\n",
       "      <td>188.679623</td>\n",
       "    </tr>\n",
       "    <tr>\n",
       "      <th>4</th>\n",
       "      <td>Apple</td>\n",
       "      <td>69990</td>\n",
       "      <td>69.323529</td>\n",
       "      <td>Apple M1</td>\n",
       "      <td>Octa Core (4P + 4E)</td>\n",
       "      <td>8</td>\n",
       "      <td>DDR4</td>\n",
       "      <td>256GB</td>\n",
       "      <td>SSD</td>\n",
       "      <td>Apple M1 Integrated Graphics</td>\n",
       "      <td>Mac OS</td>\n",
       "      <td>1</td>\n",
       "      <td>226.983005</td>\n",
       "    </tr>\n",
       "  </tbody>\n",
       "</table>\n",
       "</div>"
      ],
      "text/plain": [
       "    brand  price  spec_rating                      processor  \\\n",
       "0      HP  49900    73.000000      5th Gen AMD Ryzen 5 5600H   \n",
       "1      HP  39900    60.000000   12th Gen Intel Core i3 1215U   \n",
       "2    Acer  26990    69.323529  11th Gen Intel Core i3 1115G4   \n",
       "3  Lenovo  59729    66.000000   12th Gen Intel Core i5 1240P   \n",
       "4   Apple  69990    69.323529                       Apple M1   \n",
       "\n",
       "                              CPU  Ram Ram_type    ROM ROM_type  \\\n",
       "0           Hexa Core, 12 Threads    8     DDR4  512GB      SSD   \n",
       "1  Hexa Core (2P + 4E), 8 Threads    8     DDR4  512GB      SSD   \n",
       "2            Dual Core, 4 Threads    8     DDR4  512GB      SSD   \n",
       "3  12 Cores (4P + 8E), 16 Threads   16   LPDDR5  512GB      SSD   \n",
       "4             Octa Core (4P + 4E)    8     DDR4  256GB      SSD   \n",
       "\n",
       "                            GPU             OS  warranty         ppi  \n",
       "0       4GB AMD Radeon RX 6500M  Windows 11 OS         1  141.211998  \n",
       "1            Intel UHD Graphics  Windows 11 OS         1  141.211998  \n",
       "2        Intel Iris Xe Graphics  Windows 11 OS         1  157.350512  \n",
       "3      Intel Integrated Iris Xe  Windows 11 OS         1  188.679623  \n",
       "4  Apple M1 Integrated Graphics         Mac OS         1  226.983005  "
      ]
     },
     "execution_count": 16,
     "metadata": {},
     "output_type": "execute_result"
    }
   ],
   "source": [
    "df.head()"
   ]
  },
  {
   "cell_type": "code",
   "execution_count": 17,
   "id": "607f6e2d-9d96-4cf4-bc50-ef9d1a9c600f",
   "metadata": {},
   "outputs": [
    {
     "data": {
      "image/png": "[encoded data removed]",
      "text/plain": [
       "<Figure size 640x480 with 1 Axes>"
      ]
     },
     "metadata": {},
     "output_type": "display_data"
    }
   ],
   "source": [
    "sns.barplot(x = df['Ram'], y = df['price'])\n",
    "plt.show()"
   ]
  },
  {
   "cell_type": "code",
   "execution_count": 18,
   "id": "97f5cdc4-6776-4219-a353-cced72327bdb",
   "metadata": {},
   "outputs": [
    {
     "data": {
      "text/plain": [
       "Index(['price', 'spec_rating', 'Ram', 'warranty', 'ppi'], dtype='object')"
      ]
     },
     "execution_count": 18,
     "metadata": {},
     "output_type": "execute_result"
    }
   ],
   "source": [
    "df.select_dtypes(include = ['int','float']).keys()"
   ]
  },
  {
   "cell_type": "code",
   "execution_count": 19,
   "id": "41d71664-0b9e-42c9-ad9b-f69148b0a8ae",
   "metadata": {},
   "outputs": [
    {
     "data": {
      "text/plain": [
       "ROM\n",
       "512GB    634\n",
       "1TB      188\n",
       "256GB     42\n",
       "128GB     12\n",
       "2TB       10\n",
       "64GB       5\n",
       "32GB       2\n",
       "Name: count, dtype: int64"
      ]
     },
     "execution_count": 19,
     "metadata": {},
     "output_type": "execute_result"
    }
   ],
   "source": [
    "df['ROM'].value_counts()"
   ]
  },
  {
   "cell_type": "code",
   "execution_count": 20,
   "id": "2c57540d-5306-4603-92e8-6695e9a4f9ab",
   "metadata": {},
   "outputs": [
    {
     "data": {
      "text/plain": [
       "0      512GB\n",
       "1      512GB\n",
       "2      512GB\n",
       "3      512GB\n",
       "4      256GB\n",
       "       ...  \n",
       "888    512GB\n",
       "889      1TB\n",
       "890      1TB\n",
       "891    512GB\n",
       "892      1TB\n",
       "Name: ROM, Length: 893, dtype: object"
      ]
     },
     "execution_count": 20,
     "metadata": {},
     "output_type": "execute_result"
    }
   ],
   "source": [
    "df['ROM'] "
   ]
  },
  {
   "cell_type": "code",
   "execution_count": 21,
   "id": "4fa9411f-28d4-481f-9a0c-f3547c37b858",
   "metadata": {},
   "outputs": [
    {
     "data": {
      "text/plain": [
       "0      [512]\n",
       "1      [512]\n",
       "2      [512]\n",
       "3      [512]\n",
       "4      [256]\n",
       "       ...  \n",
       "888    [512]\n",
       "889      [1]\n",
       "890      [1]\n",
       "891    [512]\n",
       "892      [1]\n",
       "Name: ROM, Length: 893, dtype: object"
      ]
     },
     "execution_count": 21,
     "metadata": {},
     "output_type": "execute_result"
    }
   ],
   "source": [
    "df['ROM'].str.findall(r\"\\d+\")"
   ]
  },
  {
   "cell_type": "code",
   "execution_count": 22,
   "id": "63685556-cc46-4124-916c-a88252feb2b4",
   "metadata": {},
   "outputs": [
    {
     "data": {
      "text/plain": [
       "0      512\n",
       "1      512\n",
       "2      512\n",
       "3      512\n",
       "4      256\n",
       "      ... \n",
       "888    512\n",
       "889      1\n",
       "890      1\n",
       "891    512\n",
       "892      1\n",
       "Name: ROM, Length: 893, dtype: object"
      ]
     },
     "execution_count": 22,
     "metadata": {},
     "output_type": "execute_result"
    }
   ],
   "source": [
    "modified_rom = df['ROM'].str.findall(r\"\\d+\").apply(lambda x:x[0])\n",
    "modified_rom"
   ]
  },
  {
   "cell_type": "code",
   "execution_count": 23,
   "id": "8f267d41-757e-4ea7-9dcc-706b03377a9a",
   "metadata": {},
   "outputs": [
    {
     "data": {
      "text/plain": [
       "0      512\n",
       "1      512\n",
       "2      512\n",
       "3      512\n",
       "4      256\n",
       "      ... \n",
       "888    512\n",
       "889      1\n",
       "890      1\n",
       "891    512\n",
       "892      1\n",
       "Name: ROM, Length: 893, dtype: int32"
      ]
     },
     "execution_count": 23,
     "metadata": {},
     "output_type": "execute_result"
    }
   ],
   "source": [
    "modified_rom.astype('int')"
   ]
  },
  {
   "cell_type": "code",
   "execution_count": 24,
   "id": "dfcde07b-a628-4219-9db0-34f5757ee0f3",
   "metadata": {},
   "outputs": [
    {
     "data": {
      "text/plain": [
       "0       512\n",
       "1       512\n",
       "2       512\n",
       "3       512\n",
       "4       256\n",
       "       ... \n",
       "888     512\n",
       "889    1024\n",
       "890    1024\n",
       "891     512\n",
       "892    1024\n",
       "Name: ROM, Length: 893, dtype: int64"
      ]
     },
     "execution_count": 24,
     "metadata": {},
     "output_type": "execute_result"
    }
   ],
   "source": [
    "modified_rom.astype('int').apply(lambda x: x*1024 if x < 3 else x)"
   ]
  },
  {
   "cell_type": "code",
   "execution_count": 25,
   "id": "9f3d6fee-283b-4abd-a13b-52b917d64e90",
   "metadata": {},
   "outputs": [],
   "source": [
    "df['ROM'] = modified_rom.astype('int').apply(lambda x: x*1024 if x < 3 else x) # Converting 1TB and 2TB into GB"
   ]
  },
  {
   "cell_type": "code",
   "execution_count": 26,
   "id": "779f5d49-18cf-48a9-a133-ded0df419f09",
   "metadata": {},
   "outputs": [
    {
     "data": {
      "text/html": [
       "<div>\n",
       "<style scoped>\n",
       "    .dataframe tbody tr th:only-of-type {\n",
       "        vertical-align: middle;\n",
       "    }\n",
       "\n",
       "    .dataframe tbody tr th {\n",
       "        vertical-align: top;\n",
       "    }\n",
       "\n",
       "    .dataframe thead th {\n",
       "        text-align: right;\n",
       "    }\n",
       "</style>\n",
       "<table border=\"1\" class=\"dataframe\">\n",
       "  <thead>\n",
       "    <tr style=\"text-align: right;\">\n",
       "      <th></th>\n",
       "      <th>brand</th>\n",
       "      <th>price</th>\n",
       "      <th>spec_rating</th>\n",
       "      <th>processor</th>\n",
       "      <th>CPU</th>\n",
       "      <th>Ram</th>\n",
       "      <th>Ram_type</th>\n",
       "      <th>ROM</th>\n",
       "      <th>ROM_type</th>\n",
       "      <th>GPU</th>\n",
       "      <th>OS</th>\n",
       "      <th>warranty</th>\n",
       "      <th>ppi</th>\n",
       "    </tr>\n",
       "  </thead>\n",
       "  <tbody>\n",
       "    <tr>\n",
       "      <th>197</th>\n",
       "      <td>HP</td>\n",
       "      <td>91990</td>\n",
       "      <td>80.000000</td>\n",
       "      <td>6th Gen AMD Ryzen 7  6800H</td>\n",
       "      <td>Octa Core, 16 Threads</td>\n",
       "      <td>16</td>\n",
       "      <td>DDR5</td>\n",
       "      <td>512</td>\n",
       "      <td>SSD</td>\n",
       "      <td>8GB AMD Radeon RX 6650M</td>\n",
       "      <td>Windows 11 OS</td>\n",
       "      <td>1</td>\n",
       "      <td>136.826532</td>\n",
       "    </tr>\n",
       "    <tr>\n",
       "      <th>158</th>\n",
       "      <td>Apple</td>\n",
       "      <td>144990</td>\n",
       "      <td>69.323529</td>\n",
       "      <td>Apple M2</td>\n",
       "      <td>Octa Core (4P + 4E)</td>\n",
       "      <td>8</td>\n",
       "      <td>DDR4</td>\n",
       "      <td>512</td>\n",
       "      <td>SSD</td>\n",
       "      <td>10-Core GPU</td>\n",
       "      <td>Mac OS</td>\n",
       "      <td>1</td>\n",
       "      <td>224.221076</td>\n",
       "    </tr>\n",
       "    <tr>\n",
       "      <th>809</th>\n",
       "      <td>MSI</td>\n",
       "      <td>104990</td>\n",
       "      <td>78.000000</td>\n",
       "      <td>7th Gen AMD Ryzen 7  7735HS</td>\n",
       "      <td>Octa Core, 16 Threads</td>\n",
       "      <td>16</td>\n",
       "      <td>DDR5</td>\n",
       "      <td>1024</td>\n",
       "      <td>SSD</td>\n",
       "      <td>8GB Nvidia GeForce RTX 4060</td>\n",
       "      <td>Windows 11 OS</td>\n",
       "      <td>1</td>\n",
       "      <td>141.211998</td>\n",
       "    </tr>\n",
       "    <tr>\n",
       "      <th>785</th>\n",
       "      <td>Ninkear</td>\n",
       "      <td>79999</td>\n",
       "      <td>76.000000</td>\n",
       "      <td>7th Gen AMD Ryzen 7 7735HS</td>\n",
       "      <td>Octa Core, 16 Threads</td>\n",
       "      <td>32</td>\n",
       "      <td>DDR5</td>\n",
       "      <td>2048</td>\n",
       "      <td>SSD</td>\n",
       "      <td>AMD Radeon 680M</td>\n",
       "      <td>Windows 11 OS</td>\n",
       "      <td>1</td>\n",
       "      <td>188.679623</td>\n",
       "    </tr>\n",
       "    <tr>\n",
       "      <th>828</th>\n",
       "      <td>Lenovo</td>\n",
       "      <td>72500</td>\n",
       "      <td>63.000000</td>\n",
       "      <td>12th Gen Intel Core i5 1235U</td>\n",
       "      <td>10 Cores (2P + 8E), 12 Threads</td>\n",
       "      <td>8</td>\n",
       "      <td>DDR4</td>\n",
       "      <td>512</td>\n",
       "      <td>SSD</td>\n",
       "      <td>Intel Iris Xe Graphics</td>\n",
       "      <td>DOS OS</td>\n",
       "      <td>1</td>\n",
       "      <td>157.350512</td>\n",
       "    </tr>\n",
       "  </tbody>\n",
       "</table>\n",
       "</div>"
      ],
      "text/plain": [
       "       brand   price  spec_rating                     processor  \\\n",
       "197       HP   91990    80.000000    6th Gen AMD Ryzen 7  6800H   \n",
       "158    Apple  144990    69.323529                      Apple M2   \n",
       "809      MSI  104990    78.000000   7th Gen AMD Ryzen 7  7735HS   \n",
       "785  Ninkear   79999    76.000000    7th Gen AMD Ryzen 7 7735HS   \n",
       "828   Lenovo   72500    63.000000  12th Gen Intel Core i5 1235U   \n",
       "\n",
       "                                CPU  Ram Ram_type   ROM ROM_type  \\\n",
       "197           Octa Core, 16 Threads   16     DDR5   512      SSD   \n",
       "158             Octa Core (4P + 4E)    8     DDR4   512      SSD   \n",
       "809           Octa Core, 16 Threads   16     DDR5  1024      SSD   \n",
       "785           Octa Core, 16 Threads   32     DDR5  2048      SSD   \n",
       "828  10 Cores (2P + 8E), 12 Threads    8     DDR4   512      SSD   \n",
       "\n",
       "                             GPU             OS  warranty         ppi  \n",
       "197      8GB AMD Radeon RX 6650M  Windows 11 OS         1  136.826532  \n",
       "158                  10-Core GPU         Mac OS         1  224.221076  \n",
       "809  8GB Nvidia GeForce RTX 4060  Windows 11 OS         1  141.211998  \n",
       "785              AMD Radeon 680M  Windows 11 OS         1  188.679623  \n",
       "828       Intel Iris Xe Graphics         DOS OS         1  157.350512  "
      ]
     },
     "execution_count": 26,
     "metadata": {},
     "output_type": "execute_result"
    }
   ],
   "source": [
    "df.sample(5, random_state = 2)"
   ]
  },
  {
   "cell_type": "code",
   "execution_count": 27,
   "id": "18925022-5919-45dc-9632-86dc2cd658f8",
   "metadata": {},
   "outputs": [
    {
     "data": {
      "text/plain": [
       "Index(['price', 'spec_rating', 'Ram', 'ROM', 'warranty', 'ppi'], dtype='object')"
      ]
     },
     "execution_count": 27,
     "metadata": {},
     "output_type": "execute_result"
    }
   ],
   "source": [
    "df.select_dtypes(include= ['int','float']).keys()"
   ]
  },
  {
   "cell_type": "code",
   "execution_count": 28,
   "id": "f74a414a-50b8-44e2-b811-37838c3ce8f2",
   "metadata": {},
   "outputs": [
    {
     "data": {
      "image/png": "[encoded data removed]",
      "text/plain": [
       "<Figure size 640x480 with 1 Axes>"
      ]
     },
     "metadata": {},
     "output_type": "display_data"
    }
   ],
   "source": [
    "sns.barplot(x = df['ROM'], y = df['price'])\n",
    "plt.show()"
   ]
  },
  {
   "cell_type": "code",
   "execution_count": 29,
   "id": "362f4b1b-b4a4-49fc-872f-b8d7f9dd0cbe",
   "metadata": {},
   "outputs": [
    {
     "data": {
      "text/plain": [
       "ROM_type\n",
       "SSD          872\n",
       "Hard-Disk     21\n",
       "Name: count, dtype: int64"
      ]
     },
     "execution_count": 29,
     "metadata": {},
     "output_type": "execute_result"
    }
   ],
   "source": [
    "df['ROM_type'].value_counts()"
   ]
  },
  {
   "cell_type": "code",
   "execution_count": 30,
   "id": "0c8a5697-4c23-4983-beb6-a112f6bb7b8f",
   "metadata": {},
   "outputs": [
    {
     "data": {
      "text/html": [
       "<div>\n",
       "<style scoped>\n",
       "    .dataframe tbody tr th:only-of-type {\n",
       "        vertical-align: middle;\n",
       "    }\n",
       "\n",
       "    .dataframe tbody tr th {\n",
       "        vertical-align: top;\n",
       "    }\n",
       "\n",
       "    .dataframe thead th {\n",
       "        text-align: right;\n",
       "    }\n",
       "</style>\n",
       "<table border=\"1\" class=\"dataframe\">\n",
       "  <thead>\n",
       "    <tr style=\"text-align: right;\">\n",
       "      <th></th>\n",
       "      <th>brand</th>\n",
       "      <th>price</th>\n",
       "      <th>spec_rating</th>\n",
       "      <th>processor</th>\n",
       "      <th>CPU</th>\n",
       "      <th>Ram</th>\n",
       "      <th>Ram_type</th>\n",
       "      <th>ROM</th>\n",
       "      <th>ROM_type</th>\n",
       "      <th>GPU</th>\n",
       "      <th>OS</th>\n",
       "      <th>warranty</th>\n",
       "      <th>ppi</th>\n",
       "    </tr>\n",
       "  </thead>\n",
       "  <tbody>\n",
       "    <tr>\n",
       "      <th>0</th>\n",
       "      <td>HP</td>\n",
       "      <td>49900</td>\n",
       "      <td>73.000000</td>\n",
       "      <td>5th Gen AMD Ryzen 5 5600H</td>\n",
       "      <td>Hexa Core, 12 Threads</td>\n",
       "      <td>8</td>\n",
       "      <td>DDR4</td>\n",
       "      <td>512</td>\n",
       "      <td>SSD</td>\n",
       "      <td>4GB AMD Radeon RX 6500M</td>\n",
       "      <td>Windows 11 OS</td>\n",
       "      <td>1</td>\n",
       "      <td>141.211998</td>\n",
       "    </tr>\n",
       "    <tr>\n",
       "      <th>1</th>\n",
       "      <td>HP</td>\n",
       "      <td>39900</td>\n",
       "      <td>60.000000</td>\n",
       "      <td>12th Gen Intel Core i3 1215U</td>\n",
       "      <td>Hexa Core (2P + 4E), 8 Threads</td>\n",
       "      <td>8</td>\n",
       "      <td>DDR4</td>\n",
       "      <td>512</td>\n",
       "      <td>SSD</td>\n",
       "      <td>Intel UHD Graphics</td>\n",
       "      <td>Windows 11 OS</td>\n",
       "      <td>1</td>\n",
       "      <td>141.211998</td>\n",
       "    </tr>\n",
       "    <tr>\n",
       "      <th>2</th>\n",
       "      <td>Acer</td>\n",
       "      <td>26990</td>\n",
       "      <td>69.323529</td>\n",
       "      <td>11th Gen Intel Core i3 1115G4</td>\n",
       "      <td>Dual Core, 4 Threads</td>\n",
       "      <td>8</td>\n",
       "      <td>DDR4</td>\n",
       "      <td>512</td>\n",
       "      <td>SSD</td>\n",
       "      <td>Intel Iris Xe Graphics</td>\n",
       "      <td>Windows 11 OS</td>\n",
       "      <td>1</td>\n",
       "      <td>157.350512</td>\n",
       "    </tr>\n",
       "    <tr>\n",
       "      <th>3</th>\n",
       "      <td>Lenovo</td>\n",
       "      <td>59729</td>\n",
       "      <td>66.000000</td>\n",
       "      <td>12th Gen Intel Core i5 1240P</td>\n",
       "      <td>12 Cores (4P + 8E), 16 Threads</td>\n",
       "      <td>16</td>\n",
       "      <td>LPDDR5</td>\n",
       "      <td>512</td>\n",
       "      <td>SSD</td>\n",
       "      <td>Intel Integrated Iris Xe</td>\n",
       "      <td>Windows 11 OS</td>\n",
       "      <td>1</td>\n",
       "      <td>188.679623</td>\n",
       "    </tr>\n",
       "    <tr>\n",
       "      <th>4</th>\n",
       "      <td>Apple</td>\n",
       "      <td>69990</td>\n",
       "      <td>69.323529</td>\n",
       "      <td>Apple M1</td>\n",
       "      <td>Octa Core (4P + 4E)</td>\n",
       "      <td>8</td>\n",
       "      <td>DDR4</td>\n",
       "      <td>256</td>\n",
       "      <td>SSD</td>\n",
       "      <td>Apple M1 Integrated Graphics</td>\n",
       "      <td>Mac OS</td>\n",
       "      <td>1</td>\n",
       "      <td>226.983005</td>\n",
       "    </tr>\n",
       "  </tbody>\n",
       "</table>\n",
       "</div>"
      ],
      "text/plain": [
       "    brand  price  spec_rating                      processor  \\\n",
       "0      HP  49900    73.000000      5th Gen AMD Ryzen 5 5600H   \n",
       "1      HP  39900    60.000000   12th Gen Intel Core i3 1215U   \n",
       "2    Acer  26990    69.323529  11th Gen Intel Core i3 1115G4   \n",
       "3  Lenovo  59729    66.000000   12th Gen Intel Core i5 1240P   \n",
       "4   Apple  69990    69.323529                       Apple M1   \n",
       "\n",
       "                              CPU  Ram Ram_type  ROM ROM_type  \\\n",
       "0           Hexa Core, 12 Threads    8     DDR4  512      SSD   \n",
       "1  Hexa Core (2P + 4E), 8 Threads    8     DDR4  512      SSD   \n",
       "2            Dual Core, 4 Threads    8     DDR4  512      SSD   \n",
       "3  12 Cores (4P + 8E), 16 Threads   16   LPDDR5  512      SSD   \n",
       "4             Octa Core (4P + 4E)    8     DDR4  256      SSD   \n",
       "\n",
       "                            GPU             OS  warranty         ppi  \n",
       "0       4GB AMD Radeon RX 6500M  Windows 11 OS         1  141.211998  \n",
       "1            Intel UHD Graphics  Windows 11 OS         1  141.211998  \n",
       "2        Intel Iris Xe Graphics  Windows 11 OS         1  157.350512  \n",
       "3      Intel Integrated Iris Xe  Windows 11 OS         1  188.679623  \n",
       "4  Apple M1 Integrated Graphics         Mac OS         1  226.983005  "
      ]
     },
     "execution_count": 30,
     "metadata": {},
     "output_type": "execute_result"
    }
   ],
   "source": [
    "df.head()"
   ]
  },
  {
   "cell_type": "code",
   "execution_count": 31,
   "id": "a68edb16-9ec8-443a-aa6f-c46d0e6122c0",
   "metadata": {},
   "outputs": [],
   "source": [
    "# corr() -> returns the correlation coefficient that has 3 values -> -1, 0, 1. -1 implies negative linear relationship, 0 implies no linear relationship and 1 implies positive linear relationship."
   ]
  },
  {
   "cell_type": "code",
   "execution_count": 32,
   "id": "9d485ef5-fa7d-4ac8-a5bd-e1c27cd2933a",
   "metadata": {},
   "outputs": [
    {
     "data": {
      "text/plain": [
       "price          1.000000\n",
       "spec_rating    0.546391\n",
       "Ram            0.736924\n",
       "ROM            0.624741\n",
       "warranty       0.117101\n",
       "ppi            0.540507\n",
       "Name: price, dtype: float64"
      ]
     },
     "execution_count": 32,
     "metadata": {},
     "output_type": "execute_result"
    }
   ],
   "source": [
    "df.select_dtypes(include = ['int','float']).corr()['price']"
   ]
  },
  {
   "cell_type": "code",
   "execution_count": 33,
   "id": "2a4e63e7-5889-4f15-9035-8dc1d66be8db",
   "metadata": {},
   "outputs": [
    {
     "data": {
      "text/plain": [
       "Index(['brand', 'processor', 'CPU', 'Ram_type', 'ROM_type', 'GPU', 'OS'], dtype='object')"
      ]
     },
     "execution_count": 33,
     "metadata": {},
     "output_type": "execute_result"
    }
   ],
   "source": [
    "df.select_dtypes(include = ['object']).keys()"
   ]
  },
  {
   "cell_type": "code",
   "execution_count": 34,
   "id": "afd43566-01ad-40c7-a50c-5cced972b61a",
   "metadata": {},
   "outputs": [
    {
     "data": {
      "text/html": [
       "<div>\n",
       "<style scoped>\n",
       "    .dataframe tbody tr th:only-of-type {\n",
       "        vertical-align: middle;\n",
       "    }\n",
       "\n",
       "    .dataframe tbody tr th {\n",
       "        vertical-align: top;\n",
       "    }\n",
       "\n",
       "    .dataframe thead th {\n",
       "        text-align: right;\n",
       "    }\n",
       "</style>\n",
       "<table border=\"1\" class=\"dataframe\">\n",
       "  <thead>\n",
       "    <tr style=\"text-align: right;\">\n",
       "      <th></th>\n",
       "      <th>brand</th>\n",
       "      <th>price</th>\n",
       "      <th>spec_rating</th>\n",
       "      <th>processor</th>\n",
       "      <th>CPU</th>\n",
       "      <th>Ram</th>\n",
       "      <th>Ram_type</th>\n",
       "      <th>ROM</th>\n",
       "      <th>ROM_type</th>\n",
       "      <th>GPU</th>\n",
       "      <th>OS</th>\n",
       "      <th>warranty</th>\n",
       "      <th>ppi</th>\n",
       "    </tr>\n",
       "  </thead>\n",
       "  <tbody>\n",
       "    <tr>\n",
       "      <th>0</th>\n",
       "      <td>HP</td>\n",
       "      <td>49900</td>\n",
       "      <td>73.000000</td>\n",
       "      <td>5th Gen AMD Ryzen 5 5600H</td>\n",
       "      <td>Hexa Core, 12 Threads</td>\n",
       "      <td>8</td>\n",
       "      <td>DDR4</td>\n",
       "      <td>512</td>\n",
       "      <td>SSD</td>\n",
       "      <td>4GB AMD Radeon RX 6500M</td>\n",
       "      <td>Windows 11 OS</td>\n",
       "      <td>1</td>\n",
       "      <td>141.211998</td>\n",
       "    </tr>\n",
       "    <tr>\n",
       "      <th>1</th>\n",
       "      <td>HP</td>\n",
       "      <td>39900</td>\n",
       "      <td>60.000000</td>\n",
       "      <td>12th Gen Intel Core i3 1215U</td>\n",
       "      <td>Hexa Core (2P + 4E), 8 Threads</td>\n",
       "      <td>8</td>\n",
       "      <td>DDR4</td>\n",
       "      <td>512</td>\n",
       "      <td>SSD</td>\n",
       "      <td>Intel UHD Graphics</td>\n",
       "      <td>Windows 11 OS</td>\n",
       "      <td>1</td>\n",
       "      <td>141.211998</td>\n",
       "    </tr>\n",
       "    <tr>\n",
       "      <th>2</th>\n",
       "      <td>Acer</td>\n",
       "      <td>26990</td>\n",
       "      <td>69.323529</td>\n",
       "      <td>11th Gen Intel Core i3 1115G4</td>\n",
       "      <td>Dual Core, 4 Threads</td>\n",
       "      <td>8</td>\n",
       "      <td>DDR4</td>\n",
       "      <td>512</td>\n",
       "      <td>SSD</td>\n",
       "      <td>Intel Iris Xe Graphics</td>\n",
       "      <td>Windows 11 OS</td>\n",
       "      <td>1</td>\n",
       "      <td>157.350512</td>\n",
       "    </tr>\n",
       "    <tr>\n",
       "      <th>3</th>\n",
       "      <td>Lenovo</td>\n",
       "      <td>59729</td>\n",
       "      <td>66.000000</td>\n",
       "      <td>12th Gen Intel Core i5 1240P</td>\n",
       "      <td>12 Cores (4P + 8E), 16 Threads</td>\n",
       "      <td>16</td>\n",
       "      <td>LPDDR5</td>\n",
       "      <td>512</td>\n",
       "      <td>SSD</td>\n",
       "      <td>Intel Integrated Iris Xe</td>\n",
       "      <td>Windows 11 OS</td>\n",
       "      <td>1</td>\n",
       "      <td>188.679623</td>\n",
       "    </tr>\n",
       "    <tr>\n",
       "      <th>4</th>\n",
       "      <td>Apple</td>\n",
       "      <td>69990</td>\n",
       "      <td>69.323529</td>\n",
       "      <td>Apple M1</td>\n",
       "      <td>Octa Core (4P + 4E)</td>\n",
       "      <td>8</td>\n",
       "      <td>DDR4</td>\n",
       "      <td>256</td>\n",
       "      <td>SSD</td>\n",
       "      <td>Apple M1 Integrated Graphics</td>\n",
       "      <td>Mac OS</td>\n",
       "      <td>1</td>\n",
       "      <td>226.983005</td>\n",
       "    </tr>\n",
       "  </tbody>\n",
       "</table>\n",
       "</div>"
      ],
      "text/plain": [
       "    brand  price  spec_rating                      processor  \\\n",
       "0      HP  49900    73.000000      5th Gen AMD Ryzen 5 5600H   \n",
       "1      HP  39900    60.000000   12th Gen Intel Core i3 1215U   \n",
       "2    Acer  26990    69.323529  11th Gen Intel Core i3 1115G4   \n",
       "3  Lenovo  59729    66.000000   12th Gen Intel Core i5 1240P   \n",
       "4   Apple  69990    69.323529                       Apple M1   \n",
       "\n",
       "                              CPU  Ram Ram_type  ROM ROM_type  \\\n",
       "0           Hexa Core, 12 Threads    8     DDR4  512      SSD   \n",
       "1  Hexa Core (2P + 4E), 8 Threads    8     DDR4  512      SSD   \n",
       "2            Dual Core, 4 Threads    8     DDR4  512      SSD   \n",
       "3  12 Cores (4P + 8E), 16 Threads   16   LPDDR5  512      SSD   \n",
       "4             Octa Core (4P + 4E)    8     DDR4  256      SSD   \n",
       "\n",
       "                            GPU             OS  warranty         ppi  \n",
       "0       4GB AMD Radeon RX 6500M  Windows 11 OS         1  141.211998  \n",
       "1            Intel UHD Graphics  Windows 11 OS         1  141.211998  \n",
       "2        Intel Iris Xe Graphics  Windows 11 OS         1  157.350512  \n",
       "3      Intel Integrated Iris Xe  Windows 11 OS         1  188.679623  \n",
       "4  Apple M1 Integrated Graphics         Mac OS         1  226.983005  "
      ]
     },
     "execution_count": 34,
     "metadata": {},
     "output_type": "execute_result"
    }
   ],
   "source": [
    "df.head()"
   ]
  },
  {
   "cell_type": "code",
   "execution_count": 35,
   "id": "384ae45d-e705-4195-ae1e-8e592104eecb",
   "metadata": {},
   "outputs": [
    {
     "data": {
      "text/plain": [
       "processor\n",
       "12th Gen Intel Core i5 1235U     49\n",
       "13th Gen Intel Core i5 1335U     41\n",
       "12th Gen Intel Core i3 1215U     38\n",
       "11th Gen Intel Core i3 1115G4    36\n",
       "12th Gen Intel Core i5 12450H    33\n",
       "                                 ..\n",
       "5th Gen AMD Ryzen 7  5825U        1\n",
       "6th Gen AMD Ryzen 9  6900HX       1\n",
       "12th Gen Intel Core i5 1230U      1\n",
       "AMD Ryzen 3 7320U                 1\n",
       "13th Gen ‎Intel Core i3 1315U     1\n",
       "Name: count, Length: 184, dtype: int64"
      ]
     },
     "execution_count": 35,
     "metadata": {},
     "output_type": "execute_result"
    }
   ],
   "source": [
    "df['processor'].value_counts()"
   ]
  },
  {
   "cell_type": "code",
   "execution_count": 36,
   "id": "615c55cf-6c0f-4d07-a923-19d0928030dc",
   "metadata": {},
   "outputs": [
    {
     "data": {
      "text/plain": [
       "0          [5th, Gen, AMD, Ryzen, 5, 5600H]\n",
       "1       [12th, Gen, Intel, Core, i3, 1215U]\n",
       "2      [11th, Gen, Intel, Core, i3, 1115G4]\n",
       "3       [12th, Gen, Intel, Core, i5, 1240P]\n",
       "4                               [Apple, M1]\n",
       "                       ...                 \n",
       "888    [13th, Gen, ‎Intel, Core, i3, 1315U]\n",
       "889        [6th, Gen, AMD, Ryzen, 7, 6800H]\n",
       "890       [7th, Gen, AMD, Ryzen, 9, 7940HS]\n",
       "891    [13th, Gen, Intel, Core, i7, 13700H]\n",
       "892       [7th, Gen, AMD, Ryzen, 9, 7940HS]\n",
       "Name: processor, Length: 893, dtype: object"
      ]
     },
     "execution_count": 36,
     "metadata": {},
     "output_type": "execute_result"
    }
   ],
   "source": [
    "df['processor'].str.split()"
   ]
  },
  {
   "cell_type": "code",
   "execution_count": 37,
   "id": "ba00e17e-34d4-43fd-971a-e8e458df9879",
   "metadata": {},
   "outputs": [
    {
     "data": {
      "text/plain": [
       "0          [5th, Gen, AMD, Ryzen, 5]\n",
       "1       [12th, Gen, Intel, Core, i3]\n",
       "2       [11th, Gen, Intel, Core, i3]\n",
       "3       [12th, Gen, Intel, Core, i5]\n",
       "4                        [Apple, M1]\n",
       "                   ...              \n",
       "888    [13th, Gen, ‎Intel, Core, i3]\n",
       "889        [6th, Gen, AMD, Ryzen, 7]\n",
       "890        [7th, Gen, AMD, Ryzen, 9]\n",
       "891     [13th, Gen, Intel, Core, i7]\n",
       "892        [7th, Gen, AMD, Ryzen, 9]\n",
       "Name: processor, Length: 893, dtype: object"
      ]
     },
     "execution_count": 37,
     "metadata": {},
     "output_type": "execute_result"
    }
   ],
   "source": [
    "df['processor'].str.split().apply(lambda x: x[0:5])"
   ]
  },
  {
   "cell_type": "code",
   "execution_count": 38,
   "id": "d723d853-dd57-461f-89ed-86349a91a8b4",
   "metadata": {},
   "outputs": [
    {
     "data": {
      "text/plain": [
       "0         AMD Ryzen 5\n",
       "1       Intel Core i3\n",
       "2       Intel Core i3\n",
       "3       Intel Core i5\n",
       "4                    \n",
       "            ...      \n",
       "888    ‎Intel Core i3\n",
       "889       AMD Ryzen 7\n",
       "890       AMD Ryzen 9\n",
       "891     Intel Core i7\n",
       "892       AMD Ryzen 9\n",
       "Name: processor, Length: 893, dtype: object"
      ]
     },
     "execution_count": 38,
     "metadata": {},
     "output_type": "execute_result"
    }
   ],
   "source": [
    "df['processor'].str.split().apply(lambda x: \" \".join(x[2:5]))"
   ]
  },
  {
   "cell_type": "code",
   "execution_count": 39,
   "id": "205ab06c-c7e9-413c-b38c-1b3d2066b780",
   "metadata": {},
   "outputs": [],
   "source": [
    "df['processor'] = df['processor'].str.split().apply(lambda x: \" \".join(x[2:5]))"
   ]
  },
  {
   "cell_type": "code",
   "execution_count": 40,
   "id": "30f8b1b1-e41a-4580-8d24-7bf3247cada8",
   "metadata": {},
   "outputs": [
    {
     "data": {
      "text/plain": [
       "'N4020'"
      ]
     },
     "execution_count": 40,
     "metadata": {},
     "output_type": "execute_result"
    }
   ],
   "source": [
    "df.iloc[11].processor"
   ]
  },
  {
   "cell_type": "code",
   "execution_count": 41,
   "id": "79bca6ec-e3f1-4635-b356-42cf6da7066e",
   "metadata": {},
   "outputs": [],
   "source": [
    "def fetch_processor(text):\n",
    "    if text == 'Intel Core i7' or text == 'Intel Core i5' or text == 'Intel Core i3' or text == 'AMD Ryzen 3' or text == 'AMD Ryzen 5' or text == 'AMD Ryzen 7' or text == 'AMD Ryzen 9':\n",
    "        return text\n",
    "    else:\n",
    "        if len(text.split()) != 0: # to remove list index out of range error\n",
    "            if text != np.nan and text.split()[0] == 'Intel': # For Intel Core M etc.\n",
    "                return 'Other Intel Processor'\n",
    "            if text != np.nan and text.split()[0] == 'AMD' or text.split()[0] == 'Amd':\n",
    "                return 'Other AMD Processor'\n",
    "            else:\n",
    "                return 'Other Processor' # for brands like Ultimus where 'N4020' string is left\n",
    "        else:\n",
    "            return 'Other Processor' # for filling null values"
   ]
  },
  {
   "cell_type": "code",
   "execution_count": 42,
   "id": "8642d9ce-e893-480e-bd28-5df55b96a2a8",
   "metadata": {},
   "outputs": [],
   "source": [
    "df['processor'] = df['processor'].apply(fetch_processor)"
   ]
  },
  {
   "cell_type": "code",
   "execution_count": 43,
   "id": "55fd42af-0446-41ad-87d7-79875bd82f51",
   "metadata": {},
   "outputs": [
    {
     "data": {
      "text/html": [
       "<div>\n",
       "<style scoped>\n",
       "    .dataframe tbody tr th:only-of-type {\n",
       "        vertical-align: middle;\n",
       "    }\n",
       "\n",
       "    .dataframe tbody tr th {\n",
       "        vertical-align: top;\n",
       "    }\n",
       "\n",
       "    .dataframe thead th {\n",
       "        text-align: right;\n",
       "    }\n",
       "</style>\n",
       "<table border=\"1\" class=\"dataframe\">\n",
       "  <thead>\n",
       "    <tr style=\"text-align: right;\">\n",
       "      <th></th>\n",
       "      <th>brand</th>\n",
       "      <th>price</th>\n",
       "      <th>spec_rating</th>\n",
       "      <th>processor</th>\n",
       "      <th>CPU</th>\n",
       "      <th>Ram</th>\n",
       "      <th>Ram_type</th>\n",
       "      <th>ROM</th>\n",
       "      <th>ROM_type</th>\n",
       "      <th>GPU</th>\n",
       "      <th>OS</th>\n",
       "      <th>warranty</th>\n",
       "      <th>ppi</th>\n",
       "    </tr>\n",
       "  </thead>\n",
       "  <tbody>\n",
       "    <tr>\n",
       "      <th>0</th>\n",
       "      <td>HP</td>\n",
       "      <td>49900</td>\n",
       "      <td>73.000000</td>\n",
       "      <td>AMD Ryzen 5</td>\n",
       "      <td>Hexa Core, 12 Threads</td>\n",
       "      <td>8</td>\n",
       "      <td>DDR4</td>\n",
       "      <td>512</td>\n",
       "      <td>SSD</td>\n",
       "      <td>4GB AMD Radeon RX 6500M</td>\n",
       "      <td>Windows 11 OS</td>\n",
       "      <td>1</td>\n",
       "      <td>141.211998</td>\n",
       "    </tr>\n",
       "    <tr>\n",
       "      <th>1</th>\n",
       "      <td>HP</td>\n",
       "      <td>39900</td>\n",
       "      <td>60.000000</td>\n",
       "      <td>Intel Core i3</td>\n",
       "      <td>Hexa Core (2P + 4E), 8 Threads</td>\n",
       "      <td>8</td>\n",
       "      <td>DDR4</td>\n",
       "      <td>512</td>\n",
       "      <td>SSD</td>\n",
       "      <td>Intel UHD Graphics</td>\n",
       "      <td>Windows 11 OS</td>\n",
       "      <td>1</td>\n",
       "      <td>141.211998</td>\n",
       "    </tr>\n",
       "    <tr>\n",
       "      <th>2</th>\n",
       "      <td>Acer</td>\n",
       "      <td>26990</td>\n",
       "      <td>69.323529</td>\n",
       "      <td>Intel Core i3</td>\n",
       "      <td>Dual Core, 4 Threads</td>\n",
       "      <td>8</td>\n",
       "      <td>DDR4</td>\n",
       "      <td>512</td>\n",
       "      <td>SSD</td>\n",
       "      <td>Intel Iris Xe Graphics</td>\n",
       "      <td>Windows 11 OS</td>\n",
       "      <td>1</td>\n",
       "      <td>157.350512</td>\n",
       "    </tr>\n",
       "    <tr>\n",
       "      <th>3</th>\n",
       "      <td>Lenovo</td>\n",
       "      <td>59729</td>\n",
       "      <td>66.000000</td>\n",
       "      <td>Intel Core i5</td>\n",
       "      <td>12 Cores (4P + 8E), 16 Threads</td>\n",
       "      <td>16</td>\n",
       "      <td>LPDDR5</td>\n",
       "      <td>512</td>\n",
       "      <td>SSD</td>\n",
       "      <td>Intel Integrated Iris Xe</td>\n",
       "      <td>Windows 11 OS</td>\n",
       "      <td>1</td>\n",
       "      <td>188.679623</td>\n",
       "    </tr>\n",
       "    <tr>\n",
       "      <th>4</th>\n",
       "      <td>Apple</td>\n",
       "      <td>69990</td>\n",
       "      <td>69.323529</td>\n",
       "      <td>Other Processor</td>\n",
       "      <td>Octa Core (4P + 4E)</td>\n",
       "      <td>8</td>\n",
       "      <td>DDR4</td>\n",
       "      <td>256</td>\n",
       "      <td>SSD</td>\n",
       "      <td>Apple M1 Integrated Graphics</td>\n",
       "      <td>Mac OS</td>\n",
       "      <td>1</td>\n",
       "      <td>226.983005</td>\n",
       "    </tr>\n",
       "  </tbody>\n",
       "</table>\n",
       "</div>"
      ],
      "text/plain": [
       "    brand  price  spec_rating        processor  \\\n",
       "0      HP  49900    73.000000      AMD Ryzen 5   \n",
       "1      HP  39900    60.000000    Intel Core i3   \n",
       "2    Acer  26990    69.323529    Intel Core i3   \n",
       "3  Lenovo  59729    66.000000    Intel Core i5   \n",
       "4   Apple  69990    69.323529  Other Processor   \n",
       "\n",
       "                              CPU  Ram Ram_type  ROM ROM_type  \\\n",
       "0           Hexa Core, 12 Threads    8     DDR4  512      SSD   \n",
       "1  Hexa Core (2P + 4E), 8 Threads    8     DDR4  512      SSD   \n",
       "2            Dual Core, 4 Threads    8     DDR4  512      SSD   \n",
       "3  12 Cores (4P + 8E), 16 Threads   16   LPDDR5  512      SSD   \n",
       "4             Octa Core (4P + 4E)    8     DDR4  256      SSD   \n",
       "\n",
       "                            GPU             OS  warranty         ppi  \n",
       "0       4GB AMD Radeon RX 6500M  Windows 11 OS         1  141.211998  \n",
       "1            Intel UHD Graphics  Windows 11 OS         1  141.211998  \n",
       "2        Intel Iris Xe Graphics  Windows 11 OS         1  157.350512  \n",
       "3      Intel Integrated Iris Xe  Windows 11 OS         1  188.679623  \n",
       "4  Apple M1 Integrated Graphics         Mac OS         1  226.983005  "
      ]
     },
     "execution_count": 43,
     "metadata": {},
     "output_type": "execute_result"
    }
   ],
   "source": [
    "df.head()"
   ]
  },
  {
   "cell_type": "code",
   "execution_count": 44,
   "id": "54d1aa9c-9668-42e6-aae9-78075411d040",
   "metadata": {},
   "outputs": [
    {
     "data": {
      "text/plain": [
       "0"
      ]
     },
     "execution_count": 44,
     "metadata": {},
     "output_type": "execute_result"
    }
   ],
   "source": [
    "df['processor'].isnull().sum()"
   ]
  },
  {
   "cell_type": "code",
   "execution_count": 45,
   "id": "e0a8d792-89ba-4653-992c-1bd4ef0f9cd7",
   "metadata": {},
   "outputs": [
    {
     "data": {
      "image/png": "[encoded data removed]",
      "text/plain": [
       "<Figure size 640x480 with 1 Axes>"
      ]
     },
     "metadata": {},
     "output_type": "display_data"
    }
   ],
   "source": [
    "sns.barplot(x = df['processor'], y = df['price'])\n",
    "plt.xticks(rotation = 'vertical')\n",
    "plt.show()"
   ]
  },
  {
   "cell_type": "code",
   "execution_count": 46,
   "id": "3468c1c2-f39a-4df6-b823-1fa687d9e083",
   "metadata": {},
   "outputs": [
    {
     "data": {
      "text/plain": [
       "CPU\n",
       "0                892\n",
       "[20, Threads]      1\n",
       "Name: count, dtype: int64"
      ]
     },
     "execution_count": 46,
     "metadata": {},
     "output_type": "execute_result"
    }
   ],
   "source": [
    "df['CPU'].str.split().apply(lambda x: x if x[1] == 'Threads' else 0).value_counts() # There is only one value that has Threads instead of Cores in index 1"
   ]
  },
  {
   "cell_type": "code",
   "execution_count": 47,
   "id": "d27b479e-ef03-4718-bbef-f869bc32cefa",
   "metadata": {},
   "outputs": [
    {
     "data": {
      "text/plain": [
       "0                  [Hexa, Core,, 12, Threads]\n",
       "1      [Hexa, Core, (2P, +, 4E),, 8, Threads]\n",
       "2                   [Dual, Core,, 4, Threads]\n",
       "3      [12, Cores, (4P, +, 8E),, 16, Threads]\n",
       "4                   [Octa, Core, (4P, +, 4E)]\n",
       "                        ...                  \n",
       "888    [Hexa, Core, (2P, +, 4E),, 8, Threads]\n",
       "889                [Octa, Core,, 16, Threads]\n",
       "890                [Octa, Core,, 16, Threads]\n",
       "891    [14, Cores, (6P, +, 8E),, 20, Threads]\n",
       "892                [Octa, Core,, 16, Threads]\n",
       "Name: CPU, Length: 893, dtype: object"
      ]
     },
     "execution_count": 47,
     "metadata": {},
     "output_type": "execute_result"
    }
   ],
   "source": [
    "df['CPU'].str.split() # Here, \"Core,\" is taken as single item in the list"
   ]
  },
  {
   "cell_type": "code",
   "execution_count": 48,
   "id": "7c915102-7dac-4e3f-b51c-6a529d48fa83",
   "metadata": {},
   "outputs": [
    {
     "data": {
      "text/plain": [
       "0               Hexa Core  12 Threads\n",
       "1      Hexa Core (2P + 4E)  8 Threads\n",
       "2                Dual Core  4 Threads\n",
       "3      12 Cores (4P + 8E)  16 Threads\n",
       "4                 Octa Core (4P + 4E)\n",
       "                    ...              \n",
       "888    Hexa Core (2P + 4E)  8 Threads\n",
       "889             Octa Core  16 Threads\n",
       "890             Octa Core  16 Threads\n",
       "891    14 Cores (6P + 8E)  20 Threads\n",
       "892             Octa Core  16 Threads\n",
       "Name: CPU, Length: 893, dtype: object"
      ]
     },
     "execution_count": 48,
     "metadata": {},
     "output_type": "execute_result"
    }
   ],
   "source": [
    "comma_sep_df = df['CPU'].str.split(\",\").apply(lambda x: \" \".join(x)) # This was done to remove the above error\n",
    "comma_sep_df"
   ]
  },
  {
   "cell_type": "code",
   "execution_count": 49,
   "id": "be81881d-e8e2-46fb-ba85-98f7783b1a10",
   "metadata": {},
   "outputs": [
    {
     "data": {
      "text/plain": [
       "0                  [Hexa, Core, 12, Threads]\n",
       "1      [Hexa, Core, (2P, +, 4E), 8, Threads]\n",
       "2                   [Dual, Core, 4, Threads]\n",
       "3      [12, Cores, (4P, +, 8E), 16, Threads]\n",
       "4                  [Octa, Core, (4P, +, 4E)]\n",
       "                       ...                  \n",
       "888    [Hexa, Core, (2P, +, 4E), 8, Threads]\n",
       "889                [Octa, Core, 16, Threads]\n",
       "890                [Octa, Core, 16, Threads]\n",
       "891    [14, Cores, (6P, +, 8E), 20, Threads]\n",
       "892                [Octa, Core, 16, Threads]\n",
       "Name: CPU, Length: 893, dtype: object"
      ]
     },
     "execution_count": 49,
     "metadata": {},
     "output_type": "execute_result"
    }
   ],
   "source": [
    "comma_sep_df.str.split()"
   ]
  },
  {
   "cell_type": "code",
   "execution_count": 50,
   "id": "d06d2ca1-6cdc-4f30-9ebf-b92a1d77f33b",
   "metadata": {},
   "outputs": [
    {
     "data": {
      "text/plain": [
       "0      Hexa Core\n",
       "1      Hexa Core\n",
       "2      Dual Core\n",
       "3       12 Cores\n",
       "4      Octa Core\n",
       "         ...    \n",
       "888    Hexa Core\n",
       "889    Octa Core\n",
       "890    Octa Core\n",
       "891     14 Cores\n",
       "892    Octa Core\n",
       "Name: CPU, Length: 893, dtype: object"
      ]
     },
     "execution_count": 50,
     "metadata": {},
     "output_type": "execute_result"
    }
   ],
   "source": [
    "comma_sep_df.str.split().apply(lambda x: \" \".join(x[0:2]))"
   ]
  },
  {
   "cell_type": "code",
   "execution_count": 51,
   "id": "0914aa2b-df65-488c-bd9b-3bbb2f1629c5",
   "metadata": {},
   "outputs": [],
   "source": [
    "df['CPU'] = comma_sep_df.str.split().apply(lambda x: \" \".join(x[0:2]) if x[1] != 'Threads' else 'Other Core') # replacing the 1 '20 Threads' value with string 'Other Core'"
   ]
  },
  {
   "cell_type": "code",
   "execution_count": 52,
   "id": "d0075012-dee8-4272-b788-3018b705fac1",
   "metadata": {},
   "outputs": [
    {
     "data": {
      "text/plain": [
       "0"
      ]
     },
     "execution_count": 52,
     "metadata": {},
     "output_type": "execute_result"
    }
   ],
   "source": [
    "df['CPU'].isnull().sum()"
   ]
  },
  {
   "cell_type": "code",
   "execution_count": 53,
   "id": "f883ee72-18ca-440a-86a5-aedaa6b1a01d",
   "metadata": {},
   "outputs": [
    {
     "data": {
      "text/html": [
       "<div>\n",
       "<style scoped>\n",
       "    .dataframe tbody tr th:only-of-type {\n",
       "        vertical-align: middle;\n",
       "    }\n",
       "\n",
       "    .dataframe tbody tr th {\n",
       "        vertical-align: top;\n",
       "    }\n",
       "\n",
       "    .dataframe thead th {\n",
       "        text-align: right;\n",
       "    }\n",
       "</style>\n",
       "<table border=\"1\" class=\"dataframe\">\n",
       "  <thead>\n",
       "    <tr style=\"text-align: right;\">\n",
       "      <th></th>\n",
       "      <th>brand</th>\n",
       "      <th>price</th>\n",
       "      <th>spec_rating</th>\n",
       "      <th>processor</th>\n",
       "      <th>CPU</th>\n",
       "      <th>Ram</th>\n",
       "      <th>Ram_type</th>\n",
       "      <th>ROM</th>\n",
       "      <th>ROM_type</th>\n",
       "      <th>GPU</th>\n",
       "      <th>OS</th>\n",
       "      <th>warranty</th>\n",
       "      <th>ppi</th>\n",
       "    </tr>\n",
       "  </thead>\n",
       "  <tbody>\n",
       "    <tr>\n",
       "      <th>0</th>\n",
       "      <td>HP</td>\n",
       "      <td>49900</td>\n",
       "      <td>73.000000</td>\n",
       "      <td>AMD Ryzen 5</td>\n",
       "      <td>Hexa Core</td>\n",
       "      <td>8</td>\n",
       "      <td>DDR4</td>\n",
       "      <td>512</td>\n",
       "      <td>SSD</td>\n",
       "      <td>4GB AMD Radeon RX 6500M</td>\n",
       "      <td>Windows 11 OS</td>\n",
       "      <td>1</td>\n",
       "      <td>141.211998</td>\n",
       "    </tr>\n",
       "    <tr>\n",
       "      <th>1</th>\n",
       "      <td>HP</td>\n",
       "      <td>39900</td>\n",
       "      <td>60.000000</td>\n",
       "      <td>Intel Core i3</td>\n",
       "      <td>Hexa Core</td>\n",
       "      <td>8</td>\n",
       "      <td>DDR4</td>\n",
       "      <td>512</td>\n",
       "      <td>SSD</td>\n",
       "      <td>Intel UHD Graphics</td>\n",
       "      <td>Windows 11 OS</td>\n",
       "      <td>1</td>\n",
       "      <td>141.211998</td>\n",
       "    </tr>\n",
       "    <tr>\n",
       "      <th>2</th>\n",
       "      <td>Acer</td>\n",
       "      <td>26990</td>\n",
       "      <td>69.323529</td>\n",
       "      <td>Intel Core i3</td>\n",
       "      <td>Dual Core</td>\n",
       "      <td>8</td>\n",
       "      <td>DDR4</td>\n",
       "      <td>512</td>\n",
       "      <td>SSD</td>\n",
       "      <td>Intel Iris Xe Graphics</td>\n",
       "      <td>Windows 11 OS</td>\n",
       "      <td>1</td>\n",
       "      <td>157.350512</td>\n",
       "    </tr>\n",
       "    <tr>\n",
       "      <th>3</th>\n",
       "      <td>Lenovo</td>\n",
       "      <td>59729</td>\n",
       "      <td>66.000000</td>\n",
       "      <td>Intel Core i5</td>\n",
       "      <td>12 Cores</td>\n",
       "      <td>16</td>\n",
       "      <td>LPDDR5</td>\n",
       "      <td>512</td>\n",
       "      <td>SSD</td>\n",
       "      <td>Intel Integrated Iris Xe</td>\n",
       "      <td>Windows 11 OS</td>\n",
       "      <td>1</td>\n",
       "      <td>188.679623</td>\n",
       "    </tr>\n",
       "    <tr>\n",
       "      <th>4</th>\n",
       "      <td>Apple</td>\n",
       "      <td>69990</td>\n",
       "      <td>69.323529</td>\n",
       "      <td>Other Processor</td>\n",
       "      <td>Octa Core</td>\n",
       "      <td>8</td>\n",
       "      <td>DDR4</td>\n",
       "      <td>256</td>\n",
       "      <td>SSD</td>\n",
       "      <td>Apple M1 Integrated Graphics</td>\n",
       "      <td>Mac OS</td>\n",
       "      <td>1</td>\n",
       "      <td>226.983005</td>\n",
       "    </tr>\n",
       "  </tbody>\n",
       "</table>\n",
       "</div>"
      ],
      "text/plain": [
       "    brand  price  spec_rating        processor        CPU  Ram Ram_type  ROM  \\\n",
       "0      HP  49900    73.000000      AMD Ryzen 5  Hexa Core    8     DDR4  512   \n",
       "1      HP  39900    60.000000    Intel Core i3  Hexa Core    8     DDR4  512   \n",
       "2    Acer  26990    69.323529    Intel Core i3  Dual Core    8     DDR4  512   \n",
       "3  Lenovo  59729    66.000000    Intel Core i5   12 Cores   16   LPDDR5  512   \n",
       "4   Apple  69990    69.323529  Other Processor  Octa Core    8     DDR4  256   \n",
       "\n",
       "  ROM_type                           GPU             OS  warranty         ppi  \n",
       "0      SSD       4GB AMD Radeon RX 6500M  Windows 11 OS         1  141.211998  \n",
       "1      SSD            Intel UHD Graphics  Windows 11 OS         1  141.211998  \n",
       "2      SSD        Intel Iris Xe Graphics  Windows 11 OS         1  157.350512  \n",
       "3      SSD      Intel Integrated Iris Xe  Windows 11 OS         1  188.679623  \n",
       "4      SSD  Apple M1 Integrated Graphics         Mac OS         1  226.983005  "
      ]
     },
     "execution_count": 53,
     "metadata": {},
     "output_type": "execute_result"
    }
   ],
   "source": [
    "df.head()"
   ]
  },
  {
   "cell_type": "code",
   "execution_count": 54,
   "id": "50e305cb-b5ca-4a17-a9f5-63735c385710",
   "metadata": {},
   "outputs": [
    {
     "data": {
      "image/png": "[encoded data removed]",
      "text/plain": [
       "<Figure size 640x480 with 1 Axes>"
      ]
     },
     "metadata": {},
     "output_type": "display_data"
    }
   ],
   "source": [
    "sns.barplot(x = df['CPU'], y = df['price'])\n",
    "plt.xticks(rotation = 'vertical')\n",
    "plt.show()"
   ]
  },
  {
   "cell_type": "code",
   "execution_count": 55,
   "id": "e9a2ec40-e4bd-423c-8ed3-e623e2886fa0",
   "metadata": {},
   "outputs": [
    {
     "data": {
      "text/plain": [
       "Ram_type\n",
       "DDR4       499\n",
       "DDR5       166\n",
       "LPDDR5     145\n",
       "LPDDR4X     41\n",
       "LPDDR4      14\n",
       "LPDDR4x     13\n",
       "Unified      7\n",
       "DDR3         3\n",
       "LPDDR5X      2\n",
       "DDR4-        1\n",
       "LPDDR5x      1\n",
       "DDR          1\n",
       "Name: count, dtype: int64"
      ]
     },
     "execution_count": 55,
     "metadata": {},
     "output_type": "execute_result"
    }
   ],
   "source": [
    "df['Ram_type'].value_counts()"
   ]
  },
  {
   "cell_type": "code",
   "execution_count": 56,
   "id": "3ab89278-bae1-4941-b657-6df58cd23f33",
   "metadata": {},
   "outputs": [
    {
     "data": {
      "image/png": "[encoded data removed]",
      "text/plain": [
       "<Figure size 640x480 with 1 Axes>"
      ]
     },
     "metadata": {},
     "output_type": "display_data"
    }
   ],
   "source": [
    "sns.barplot(x = df['Ram_type'], y = df['price'])\n",
    "plt.xticks(rotation = 'vertical')\n",
    "plt.show()"
   ]
  },
  {
   "cell_type": "code",
   "execution_count": 57,
   "id": "0749bb6c-6c1e-4517-9b25-959d12bca21d",
   "metadata": {},
   "outputs": [
    {
     "data": {
      "text/plain": [
       "GPU\n",
       "Intel Iris Xe Graphics          107\n",
       "Intel UHD Graphics               63\n",
       "Intel Integrated UHD             61\n",
       "AMD Radeon AMD                   55\n",
       "AMD Radeon Graphics              54\n",
       "                               ... \n",
       "4GB NVIDIA GeForce RTX A1000      1\n",
       " Intel Iris Xe Graphics           1\n",
       "19-core GPU                       1\n",
       "30-core GPU                       1\n",
       "4GB AMD Radeon RX 5600M           1\n",
       "Name: count, Length: 134, dtype: int64"
      ]
     },
     "execution_count": 57,
     "metadata": {},
     "output_type": "execute_result"
    }
   ],
   "source": [
    "df['GPU'].value_counts()"
   ]
  },
  {
   "cell_type": "code",
   "execution_count": 58,
   "id": "91d517f1-dd43-42db-a8ad-d90e935a14c3",
   "metadata": {},
   "outputs": [],
   "source": [
    "def fetch_gpuBrand(x):\n",
    "    for word in x.split():\n",
    "        if word == 'Intel' or word == 'Apple' or word == 'NVIDIA' or word == 'AMD':\n",
    "            return word\n",
    "    return 'Other GPU'"
   ]
  },
  {
   "cell_type": "code",
   "execution_count": 59,
   "id": "1f0003f6-0db5-4bd8-a403-1e26480fdee6",
   "metadata": {},
   "outputs": [
    {
     "data": {
      "text/plain": [
       "GPU\n",
       "Intel        398\n",
       "NVIDIA       297\n",
       "AMD          173\n",
       "Other GPU     23\n",
       "Apple          2\n",
       "Name: count, dtype: int64"
      ]
     },
     "execution_count": 59,
     "metadata": {},
     "output_type": "execute_result"
    }
   ],
   "source": [
    "df['GPU'].apply(fetch_gpuBrand).value_counts()"
   ]
  },
  {
   "cell_type": "code",
   "execution_count": 60,
   "id": "5d0c2ecf-eb8b-4e65-b77c-9f62d655ed96",
   "metadata": {},
   "outputs": [],
   "source": [
    "df['GPU'] = df['GPU'].apply(fetch_gpuBrand)"
   ]
  },
  {
   "cell_type": "code",
   "execution_count": 61,
   "id": "440b1bdd-d6f0-426f-8702-fcacc76bcf08",
   "metadata": {},
   "outputs": [
    {
     "data": {
      "text/plain": [
       "0"
      ]
     },
     "execution_count": 61,
     "metadata": {},
     "output_type": "execute_result"
    }
   ],
   "source": [
    "df['GPU'].isnull().sum()"
   ]
  },
  {
   "cell_type": "code",
   "execution_count": 62,
   "id": "14ed6812-4b30-4263-92a5-048a04e52aaf",
   "metadata": {},
   "outputs": [
    {
     "data": {
      "image/png": "[encoded data removed]",
      "text/plain": [
       "<Figure size 640x480 with 1 Axes>"
      ]
     },
     "metadata": {},
     "output_type": "display_data"
    }
   ],
   "source": [
    "sns.barplot(x = df['GPU'], y = df['price'])\n",
    "plt.xticks(rotation = 'vertical')\n",
    "plt.show()"
   ]
  },
  {
   "cell_type": "code",
   "execution_count": 63,
   "id": "27199373-d2e1-4364-8059-9b4b4502a0ec",
   "metadata": {},
   "outputs": [
    {
     "data": {
      "text/plain": [
       "OS\n",
       "Windows 11 OS         782\n",
       "Windows 10 OS          28\n",
       "DOS OS                 18\n",
       "Windows 11  OS         15\n",
       "Mac OS                 12\n",
       "Windows 10  OS         10\n",
       "Chrome OS              10\n",
       "Windows OS              9\n",
       "Ubuntu OS               2\n",
       "DOS 3.0 OS              2\n",
       "Mac 10.15.3\\t OS        2\n",
       "Android 11 OS           1\n",
       "Mac Catalina OS         1\n",
       "Mac High Sierra OS      1\n",
       "Name: count, dtype: int64"
      ]
     },
     "execution_count": 63,
     "metadata": {},
     "output_type": "execute_result"
    }
   ],
   "source": [
    "df['OS'].value_counts()"
   ]
  },
  {
   "cell_type": "code",
   "execution_count": 64,
   "id": "b8ca5b25-7a6f-4516-95e8-a50d57978272",
   "metadata": {},
   "outputs": [],
   "source": [
    "def fetch_osNames(inp):\n",
    "    if inp == 'Windows 10 OS' or inp == 'Windows 11 OS' or inp == 'Windows 11  OS' or inp == 'Windows 10  OS':\n",
    "        return 'Windows'\n",
    "    elif inp == 'Mac OS':\n",
    "        return 'Mac'\n",
    "    else:\n",
    "        return 'Others'"
   ]
  },
  {
   "cell_type": "code",
   "execution_count": 65,
   "id": "4e66cb1b-04d1-4740-8d49-739ba52c5eda",
   "metadata": {},
   "outputs": [],
   "source": [
    "df['OS'] = df['OS'].apply(fetch_osNames)"
   ]
  },
  {
   "cell_type": "code",
   "execution_count": 66,
   "id": "0b0df956-e2a0-469b-a861-edee02dc0f63",
   "metadata": {},
   "outputs": [
    {
     "data": {
      "text/plain": [
       "OS\n",
       "Windows    835\n",
       "Others      46\n",
       "Mac         12\n",
       "Name: count, dtype: int64"
      ]
     },
     "execution_count": 66,
     "metadata": {},
     "output_type": "execute_result"
    }
   ],
   "source": [
    "df.OS.value_counts()"
   ]
  },
  {
   "cell_type": "code",
   "execution_count": 67,
   "id": "f4aeb8f0-f55a-447a-bded-f238dfe48910",
   "metadata": {},
   "outputs": [
    {
     "data": {
      "image/png": "[encoded data removed]",
      "text/plain": [
       "<Figure size 640x480 with 1 Axes>"
      ]
     },
     "metadata": {},
     "output_type": "display_data"
    }
   ],
   "source": [
    "sns.barplot(x = df['OS'], y = df['price'])\n",
    "plt.xticks(rotation = 'vertical')\n",
    "plt.show()"
   ]
  },
  {
   "cell_type": "markdown",
   "id": "0e5e458f-7516-4650-a613-338c25521e41",
   "metadata": {},
   "source": [
    "# Applying Linear Regression"
   ]
  },
  {
   "cell_type": "code",
   "execution_count": 68,
   "id": "9803b860-b112-4599-ba57-867f5107ce7c",
   "metadata": {},
   "outputs": [
    {
     "data": {
      "text/plain": [
       "(893, 13)"
      ]
     },
     "execution_count": 68,
     "metadata": {},
     "output_type": "execute_result"
    }
   ],
   "source": [
    "df.shape"
   ]
  },
  {
   "cell_type": "code",
   "execution_count": 69,
   "id": "11d48b91-767a-4c44-a6e8-ff753601729c",
   "metadata": {},
   "outputs": [
    {
     "data": {
      "text/plain": [
       "(893, 12)"
      ]
     },
     "execution_count": 69,
     "metadata": {},
     "output_type": "execute_result"
    }
   ],
   "source": [
    "X = df.drop(['price'], axis = 1)\n",
    "X.shape"
   ]
  },
  {
   "cell_type": "code",
   "execution_count": 70,
   "id": "d20518e4-6a3e-40c6-bd6a-ad0bca484a2a",
   "metadata": {},
   "outputs": [
    {
     "data": {
      "text/plain": [
       "(893,)"
      ]
     },
     "execution_count": 70,
     "metadata": {},
     "output_type": "execute_result"
    }
   ],
   "source": [
    "y = (df['price'])\n",
    "y.shape"
   ]
  },
  {
   "cell_type": "code",
   "execution_count": 71,
   "id": "0fdecd71-b874-43f6-8631-7d730c2dcb81",
   "metadata": {},
   "outputs": [],
   "source": [
    "from sklearn.model_selection import train_test_split"
   ]
  },
  {
   "cell_type": "code",
   "execution_count": 72,
   "id": "6b022066-d888-4952-8753-a5bd512294a4",
   "metadata": {},
   "outputs": [
    {
     "name": "stdout",
     "output_type": "stream",
     "text": [
      "Shape of training data of X =  (714, 12)\n",
      "Shape of training data of y =  (179, 12)\n",
      "Shape of testing data of X =  (714,)\n",
      "Shape of testing data of y =  (179,)\n"
     ]
    }
   ],
   "source": [
    "X_train, X_test, y_train, y_test = train_test_split(X, y, test_size = 0.2, random_state = 51)\n",
    "\n",
    "print(\"Shape of training data of X = \", X_train.shape)\n",
    "print(\"Shape of training data of y = \", X_test.shape)\n",
    "print(\"Shape of testing data of X = \", y_train.shape)\n",
    "print(\"Shape of testing data of y = \", y_test.shape)"
   ]
  },
  {
   "cell_type": "code",
   "execution_count": 73,
   "id": "d4716e71-422c-4002-8708-ecc8ff348afd",
   "metadata": {},
   "outputs": [],
   "source": [
    "from sklearn.compose import ColumnTransformer\n",
    "from sklearn.preprocessing import OneHotEncoder\n",
    "from sklearn.pipeline import Pipeline\n",
    "from sklearn.linear_model import LinearRegression"
   ]
  },
  {
   "cell_type": "code",
   "execution_count": 74,
   "id": "9da8a575-16cd-4214-bbcf-60a321ef5bda",
   "metadata": {},
   "outputs": [],
   "source": [
    "step1 = ColumnTransformer(transformers = [\n",
    "    ('col_tnf', OneHotEncoder(sparse = False, drop = 'first'), ['brand', 'processor', 'CPU', 'Ram_type', 'ROM_type', 'GPU', 'OS'])\n",
    "], remainder = 'passthrough')"
   ]
  },
  {
   "cell_type": "code",
   "execution_count": 75,
   "id": "e4cd0765-e812-4d10-8984-481cdd62907a",
   "metadata": {},
   "outputs": [
    {
     "name": "stderr",
     "output_type": "stream",
     "text": [
      "C:\\Users\\pngok\\anaconda3\\Lib\\site-packages\\sklearn\\preprocessing\\_encoders.py:868: FutureWarning: `sparse` was renamed to `sparse_output` in version 1.2 and will be removed in 1.4. `sparse_output` is ignored unless you leave `sparse` to its default value.\n",
      "  warnings.warn(\n"
     ]
    },
    {
     "data": {
      "text/plain": [
       "array([4.91663990e+04, 5.78137708e+04, 5.00650717e+04, 4.25332186e+01,\n",
       "       3.29758688e+04, 9.29580792e+04, 3.87761005e+04, 9.94972809e+04,\n",
       "       3.92742831e+04, 2.39887562e+05, 2.38541455e+04, 7.03124378e+04,\n",
       "       1.09438565e+05, 8.65992874e+04, 2.83888340e+04, 1.21685211e+05,\n",
       "       1.29025840e+05, 3.79245786e+04, 3.03624641e+04, 1.44995313e+05,\n",
       "       5.11036961e+04, 8.30203960e+04, 2.02782668e+05, 7.03513627e+04,\n",
       "       1.01180818e+05, 8.20034192e+04, 6.36508099e+04, 2.96881685e+04,\n",
       "       3.25610298e+04, 1.36020462e+05, 3.86909675e+04, 5.86371195e+04,\n",
       "       6.95928701e+04, 4.77991581e+04, 6.21837575e+04, 4.53796333e+04,\n",
       "       1.95576196e+04, 6.96117714e+04, 1.06487233e+05, 7.04168583e+04,\n",
       "       4.23065591e+04, 4.57361380e+04, 1.46743896e+05, 7.65888331e+04,\n",
       "       3.12654296e+04, 3.53907918e+04, 8.92316583e+04, 9.01930542e+04,\n",
       "       6.47264175e+04, 4.46811681e+04, 4.78351153e+04, 3.35365860e+04,\n",
       "       4.60337815e+04, 1.15129064e+05, 8.56656006e+04, 2.01681580e+05,\n",
       "       4.63637209e+04, 2.13397542e+05, 8.54473265e+04, 8.34673144e+04,\n",
       "       2.52936238e+04, 9.04985783e+04, 4.95152881e+04, 3.39214962e+04,\n",
       "       1.32979107e+05, 2.20861566e+04, 3.76819909e+04, 5.99335388e+04,\n",
       "       6.08700703e+04, 4.54316496e+04, 2.20459283e+04, 9.39227221e+04,\n",
       "       6.72549809e+04, 8.41715917e+03, 5.52053279e+04, 1.43354753e+05,\n",
       "       9.21515345e+04, 5.01393499e+04, 3.00581265e+04, 2.50773247e+04,\n",
       "       1.02618306e+05, 3.52908118e+04, 4.64348430e+04, 1.48489024e+05,\n",
       "       2.04613713e+05, 7.57435738e+03, 7.89854360e+04, 3.78502109e+04,\n",
       "       7.65509465e+04, 6.73492405e+04, 2.56027775e+05, 4.59241415e+04,\n",
       "       1.59822260e+05, 2.50773247e+04, 2.51931837e+05, 1.07729183e+05,\n",
       "       5.71987254e+04, 3.72460858e+04, 6.96117714e+04, 8.69478423e+04,\n",
       "       1.04368449e+05, 1.43622187e+04, 1.19237665e+05, 7.71035168e+04,\n",
       "       8.57363029e+04, 2.08021170e+05, 1.03761712e+05, 1.00323043e+05,\n",
       "       3.16738768e+04, 3.26201250e+04, 3.29127248e+04, 6.14259816e+04,\n",
       "       4.63637209e+04, 1.49958083e+05, 3.26201250e+04, 4.80881344e+04,\n",
       "       1.46591828e+05, 3.52908118e+04, 6.17265910e+04, 1.49600543e+05,\n",
       "       9.31325923e+04, 9.43466108e+04, 1.47029812e+05, 4.66997958e+04,\n",
       "       1.65549022e+05, 3.53907918e+04, 3.72460858e+04, 8.29943308e+04,\n",
       "       3.05014605e+04, 1.11822661e+05, 7.63687691e+04, 2.17446167e+04,\n",
       "       1.17012520e+05, 1.01716850e+05, 9.34699524e+04, 1.13369558e+05,\n",
       "       6.32937176e+04, 6.24727339e+04, 4.60337815e+04, 3.10817509e+04,\n",
       "       2.00619994e+04, 7.34831778e+04, 5.81027472e+04, 7.34831778e+04,\n",
       "       4.47698226e+04, 5.20561625e+04, 2.37674942e+05, 4.75669169e+04,\n",
       "       6.89914297e+04, 7.24251208e+04, 9.47536337e+04, 3.48659043e+04,\n",
       "       1.28469885e+05, 2.18823359e+04, 6.63869272e+04, 1.10308472e+05,\n",
       "       5.81027472e+04, 6.97613339e+04, 7.28707364e+04, 6.24262803e+04,\n",
       "       6.00821690e+04, 9.20835923e+04, 9.94972809e+04, 1.10420116e+05,\n",
       "       1.23901863e+05, 6.28708633e+04, 1.97294147e+05, 2.27648909e+05,\n",
       "       6.60022948e+04, 4.09431404e+04, 3.02148219e+04, 3.28054855e+04,\n",
       "       9.29536608e+04, 9.85558440e+04, 8.69576592e+04, 1.73376098e+05,\n",
       "       5.68690639e+04, 9.31325923e+04, 2.02029827e+04])"
      ]
     },
     "execution_count": 75,
     "metadata": {},
     "output_type": "execute_result"
    }
   ],
   "source": [
    "step2 = LinearRegression()\n",
    "\n",
    "pipe = Pipeline([\n",
    "    ('step1',step1),\n",
    "    ('step2',step2)\n",
    "])\n",
    "\n",
    "pipe.fit(X_train, y_train)\n",
    "\n",
    "y_pred = pipe.predict(X_test)\n",
    "y_pred"
   ]
  },
  {
   "cell_type": "code",
   "execution_count": 77,
   "id": "0e8bce20-b385-41c6-b0bc-6839b600c179",
   "metadata": {},
   "outputs": [],
   "source": [
    "from sklearn.metrics import r2_score\n",
    "from sklearn.metrics import mean_squared_error"
   ]
  },
  {
   "cell_type": "code",
   "execution_count": 78,
   "id": "e15b14ab-7e13-4570-be3c-369ba08cc332",
   "metadata": {},
   "outputs": [
    {
     "data": {
      "text/plain": [
       "0.8015450475310013"
      ]
     },
     "execution_count": 78,
     "metadata": {},
     "output_type": "execute_result"
    }
   ],
   "source": [
    "r2_score(y_pred, y_test)"
   ]
  },
  {
   "cell_type": "code",
   "execution_count": 79,
   "id": "bf06f84e-c571-4e02-8f1a-068ca87ca157",
   "metadata": {},
   "outputs": [
    {
     "data": {
      "text/plain": [
       "523867710.45023906"
      ]
     },
     "execution_count": 79,
     "metadata": {},
     "output_type": "execute_result"
    }
   ],
   "source": [
    "mean_squared_error(y_test, y_pred)"
   ]
  },
  {
   "cell_type": "markdown",
   "id": "3fc03701-e57e-410c-b587-add0d6e3751a",
   "metadata": {},
   "source": [
    "# Applying Support Vector Regression Model"
   ]
  },
  {
   "cell_type": "code",
   "execution_count": 80,
   "id": "1d25085e-3d90-407b-a900-184ceb786f5d",
   "metadata": {},
   "outputs": [],
   "source": [
    "from sklearn.svm import SVR"
   ]
  },
  {
   "cell_type": "code",
   "execution_count": 93,
   "id": "4cd39117-e3ba-400b-967b-dd65c3a71a0d",
   "metadata": {},
   "outputs": [
    {
     "name": "stderr",
     "output_type": "stream",
     "text": [
      "C:\\Users\\pngok\\anaconda3\\Lib\\site-packages\\sklearn\\preprocessing\\_encoders.py:868: FutureWarning: `sparse` was renamed to `sparse_output` in version 1.2 and will be removed in 1.4. `sparse_output` is ignored unless you leave `sparse` to its default value.\n",
      "  warnings.warn(\n"
     ]
    },
    {
     "data": {
      "text/plain": [
       "array([ 49719.15641137,  53383.07951685,  48503.10288545,  11528.65408762,\n",
       "        38841.12574264,  83071.05275246,  31830.88254233,  96369.98262759,\n",
       "        41239.16199037, 219132.82907816,  16734.60542985,  66770.92896553,\n",
       "       100605.23469301,  79185.40847679,  28099.25407549, 101807.07958551,\n",
       "       125560.72022911,  43402.37409826,  30658.73771795, 134632.34981342,\n",
       "        45275.15658065,  77219.95735045, 184591.10059401,  65747.4885399 ,\n",
       "       107220.391633  ,  68107.99431225,  77647.35306593,  40397.52704855,\n",
       "        36902.90627976, 125055.38162919,  40263.26254078,  52577.75159713,\n",
       "        67381.42656275,  49493.79042502,  60023.85034128,  48282.23023506,\n",
       "        21510.47397288,  65808.78545567, 113571.40760418,  60716.28304692,\n",
       "        39642.59324738,  50733.79509183, 142491.99002262,  76582.07695266,\n",
       "        31748.02932616,  38640.40077086,  90925.1821489 ,  95562.82553669,\n",
       "        53003.55400773,  46104.39424296,  43400.01583262,  28312.89811727,\n",
       "        43197.15885826, 113691.40932556,  86616.95410462, 182632.3728747 ,\n",
       "        40926.19244691, 191219.89261528,  86318.82965299,  72450.74314066,\n",
       "        31196.958873  ,  76472.88981625,  33576.75309583,  30425.44198009,\n",
       "       130814.43958326,  31247.04073473,  39142.91664454,  57669.2507877 ,\n",
       "        53012.22538277,  37961.16884156,  23856.97391417,  95934.80566045,\n",
       "        74375.8209612 ,  18147.41418   ,  54930.21266981, 152403.19191404,\n",
       "        84576.63670465,  51785.41727682,  27608.88596698,  31166.20888825,\n",
       "       107325.91441914,  35315.48434754,  47482.92775961, 136554.34698578,\n",
       "       150846.44776007,  20429.10213115,  64720.36286446,  42262.64327117,\n",
       "        67962.03171392,  61905.81334229, 217431.22158571,  40382.96145173,\n",
       "       131751.86248585,  31166.20888825, 239982.6837196 , 106025.65413185,\n",
       "        52643.01931568,  37201.7141554 ,  65808.78545567,  84224.66306635,\n",
       "       103147.6029987 ,  24081.13213225, 113773.47396751,  80713.7724516 ,\n",
       "        86931.139456  , 191305.39412781,  74972.60496064,  82725.19153949,\n",
       "        34785.56606921,  38276.14524003,  33731.68449172,  59130.52086278,\n",
       "        40926.19244691, 147880.70100637,  38276.14524003,  50106.10018941,\n",
       "       146618.66783997,  35315.48434754,  70171.63173958, 146755.78059765,\n",
       "        87674.35187622,  92615.46400901, 138333.3116016 ,  60779.84812256,\n",
       "       154246.11922737,  38640.40077086,  37201.7141554 ,  79519.9215941 ,\n",
       "        44124.08203574, 106890.0722117 ,  98887.03144451,  26878.81586166,\n",
       "       120035.24326702,  98737.09253999,  80698.33423134,  95448.77608915,\n",
       "        58731.77754398,  60636.16005369,  43197.15885826,  35016.49655815,\n",
       "        22516.46742507,  73132.25902887,  53995.38911839,  73132.25902887,\n",
       "        44887.07039209,  55842.25331708, 196247.3593144 ,  46190.27573629,\n",
       "        71617.02886387,  82947.67208334,  80502.25477859,  34128.32449099,\n",
       "       130661.31523009,  21469.7034243 ,  65158.52884718,  80006.32352229,\n",
       "        53995.38911839,  67040.51976748,  85196.65585276,  67751.35184189,\n",
       "        68703.96830603,  89499.3349795 ,  96369.98262759,  91157.07468983,\n",
       "       119752.80725285,  62192.06923362, 135968.8953776 , 207313.38574692,\n",
       "        66159.72681805,  39744.89137169,  33179.56752916,  48939.18223854,\n",
       "        87803.82539435,  81880.94366094,  77874.21794435, 147657.5544891 ,\n",
       "        57202.1137714 ,  87674.35187622,  27744.69137116])"
      ]
     },
     "execution_count": 93,
     "metadata": {},
     "output_type": "execute_result"
    }
   ],
   "source": [
    "step3 = SVR(C = 5000, kernel = 'linear')\n",
    "\n",
    "pipe2 = Pipeline([\n",
    "    ('step1',step1),\n",
    "    ('step3',step3)\n",
    "])\n",
    "\n",
    "pipe2.fit(X_train, y_train)\n",
    "\n",
    "y_pred2 = pipe2.predict(X_test)\n",
    "y_pred2"
   ]
  },
  {
   "cell_type": "code",
   "execution_count": 92,
   "id": "c4fa82da-8fad-4345-8cd0-416f3882ece6",
   "metadata": {},
   "outputs": [
    {
     "data": {
      "text/plain": [
       "0.7422550699012722"
      ]
     },
     "execution_count": 92,
     "metadata": {},
     "output_type": "execute_result"
    }
   ],
   "source": [
    "r2_score(y_pred2, y_test)"
   ]
  },
  {
   "cell_type": "code",
   "execution_count": null,
   "id": "a337a529-1a12-467e-8956-f93f9ccb87c5",
   "metadata": {},
   "outputs": [],
   "source": []
  }
 ],
 "metadata": {
  "kernelspec": {
   "display_name": "Python 3 (ipykernel)",
   "language": "python",
   "name": "python3"
  },
  "language_info": {
   "codemirror_mode": {
    "name": "ipython",
    "version": 3
   },
   "file_extension": ".py",
   "mimetype": "text/x-python",
   "name": "python",
   "nbconvert_exporter": "python",
   "pygments_lexer": "ipython3",
   "version": "3.11.7"
  }
 },
 "nbformat": 4,
 "nbformat_minor": 5
}
